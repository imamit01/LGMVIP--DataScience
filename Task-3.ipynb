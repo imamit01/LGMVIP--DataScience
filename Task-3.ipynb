{
 "cells": [
  {
   "cell_type": "markdown",
   "id": "3dae3479",
   "metadata": {},
   "source": [
    "# Task - 3 : Exploratory Data Analysis on Dataset - Terrorism\n",
    "\n",
    "## Task Level : Intermediate\n",
    "\n",
    "## Batch : Feb 2022\n",
    "\n",
    "## Name : Amit Kumar"
   ]
  },
  {
   "cell_type": "markdown",
   "id": "6ed356f4",
   "metadata": {},
   "source": [
    "### Import Modules"
   ]
  },
  {
   "cell_type": "code",
   "execution_count": 1,
   "id": "7675f9ed",
   "metadata": {},
   "outputs": [],
   "source": [
    "import pandas as pd\n",
    "import numpy as np\n",
    "import seaborn as sns\n",
    "import matplotlib.pyplot as plt\n",
    "%matplotlib inline\n",
    "import warnings\n",
    "warnings.filterwarnings('ignore')"
   ]
  },
  {
   "cell_type": "markdown",
   "id": "e84e0468",
   "metadata": {},
   "source": [
    "### Read tha data"
   ]
  },
  {
   "cell_type": "code",
   "execution_count": 2,
   "id": "454729ca",
   "metadata": {},
   "outputs": [],
   "source": [
    "td=pd.read_csv(\"gt_list.csv\", encoding='latin1')"
   ]
  },
  {
   "cell_type": "markdown",
   "id": "307ddf1b",
   "metadata": {},
   "source": [
    "### Check first five and last five column"
   ]
  },
  {
   "cell_type": "code",
   "execution_count": 3,
   "id": "340c568a",
   "metadata": {
    "scrolled": true
   },
   "outputs": [
    {
     "data": {
      "text/html": [
       "<div>\n",
       "<style scoped>\n",
       "    .dataframe tbody tr th:only-of-type {\n",
       "        vertical-align: middle;\n",
       "    }\n",
       "\n",
       "    .dataframe tbody tr th {\n",
       "        vertical-align: top;\n",
       "    }\n",
       "\n",
       "    .dataframe thead th {\n",
       "        text-align: right;\n",
       "    }\n",
       "</style>\n",
       "<table border=\"1\" class=\"dataframe\">\n",
       "  <thead>\n",
       "    <tr style=\"text-align: right;\">\n",
       "      <th></th>\n",
       "      <th>eventid</th>\n",
       "      <th>iyear</th>\n",
       "      <th>imonth</th>\n",
       "      <th>iday</th>\n",
       "      <th>approxdate</th>\n",
       "      <th>extended</th>\n",
       "      <th>resolution</th>\n",
       "      <th>country</th>\n",
       "      <th>country_txt</th>\n",
       "      <th>region</th>\n",
       "      <th>...</th>\n",
       "      <th>addnotes</th>\n",
       "      <th>scite1</th>\n",
       "      <th>scite2</th>\n",
       "      <th>scite3</th>\n",
       "      <th>dbsource</th>\n",
       "      <th>INT_LOG</th>\n",
       "      <th>INT_IDEO</th>\n",
       "      <th>INT_MISC</th>\n",
       "      <th>INT_ANY</th>\n",
       "      <th>related</th>\n",
       "    </tr>\n",
       "  </thead>\n",
       "  <tbody>\n",
       "    <tr>\n",
       "      <th>0</th>\n",
       "      <td>197000000001</td>\n",
       "      <td>1970</td>\n",
       "      <td>7</td>\n",
       "      <td>2</td>\n",
       "      <td>NaN</td>\n",
       "      <td>0</td>\n",
       "      <td>NaN</td>\n",
       "      <td>58</td>\n",
       "      <td>Dominican Republic</td>\n",
       "      <td>2</td>\n",
       "      <td>...</td>\n",
       "      <td>NaN</td>\n",
       "      <td>NaN</td>\n",
       "      <td>NaN</td>\n",
       "      <td>NaN</td>\n",
       "      <td>PGIS</td>\n",
       "      <td>0</td>\n",
       "      <td>0</td>\n",
       "      <td>0</td>\n",
       "      <td>0</td>\n",
       "      <td>NaN</td>\n",
       "    </tr>\n",
       "    <tr>\n",
       "      <th>1</th>\n",
       "      <td>197000000002</td>\n",
       "      <td>1970</td>\n",
       "      <td>0</td>\n",
       "      <td>0</td>\n",
       "      <td>NaN</td>\n",
       "      <td>0</td>\n",
       "      <td>NaN</td>\n",
       "      <td>130</td>\n",
       "      <td>Mexico</td>\n",
       "      <td>1</td>\n",
       "      <td>...</td>\n",
       "      <td>NaN</td>\n",
       "      <td>NaN</td>\n",
       "      <td>NaN</td>\n",
       "      <td>NaN</td>\n",
       "      <td>PGIS</td>\n",
       "      <td>0</td>\n",
       "      <td>1</td>\n",
       "      <td>1</td>\n",
       "      <td>1</td>\n",
       "      <td>NaN</td>\n",
       "    </tr>\n",
       "    <tr>\n",
       "      <th>2</th>\n",
       "      <td>197001000001</td>\n",
       "      <td>1970</td>\n",
       "      <td>1</td>\n",
       "      <td>0</td>\n",
       "      <td>NaN</td>\n",
       "      <td>0</td>\n",
       "      <td>NaN</td>\n",
       "      <td>160</td>\n",
       "      <td>Philippines</td>\n",
       "      <td>5</td>\n",
       "      <td>...</td>\n",
       "      <td>NaN</td>\n",
       "      <td>NaN</td>\n",
       "      <td>NaN</td>\n",
       "      <td>NaN</td>\n",
       "      <td>PGIS</td>\n",
       "      <td>-9</td>\n",
       "      <td>-9</td>\n",
       "      <td>1</td>\n",
       "      <td>1</td>\n",
       "      <td>NaN</td>\n",
       "    </tr>\n",
       "    <tr>\n",
       "      <th>3</th>\n",
       "      <td>197001000002</td>\n",
       "      <td>1970</td>\n",
       "      <td>1</td>\n",
       "      <td>0</td>\n",
       "      <td>NaN</td>\n",
       "      <td>0</td>\n",
       "      <td>NaN</td>\n",
       "      <td>78</td>\n",
       "      <td>Greece</td>\n",
       "      <td>8</td>\n",
       "      <td>...</td>\n",
       "      <td>NaN</td>\n",
       "      <td>NaN</td>\n",
       "      <td>NaN</td>\n",
       "      <td>NaN</td>\n",
       "      <td>PGIS</td>\n",
       "      <td>-9</td>\n",
       "      <td>-9</td>\n",
       "      <td>1</td>\n",
       "      <td>1</td>\n",
       "      <td>NaN</td>\n",
       "    </tr>\n",
       "    <tr>\n",
       "      <th>4</th>\n",
       "      <td>197001000003</td>\n",
       "      <td>1970</td>\n",
       "      <td>1</td>\n",
       "      <td>0</td>\n",
       "      <td>NaN</td>\n",
       "      <td>0</td>\n",
       "      <td>NaN</td>\n",
       "      <td>101</td>\n",
       "      <td>Japan</td>\n",
       "      <td>4</td>\n",
       "      <td>...</td>\n",
       "      <td>NaN</td>\n",
       "      <td>NaN</td>\n",
       "      <td>NaN</td>\n",
       "      <td>NaN</td>\n",
       "      <td>PGIS</td>\n",
       "      <td>-9</td>\n",
       "      <td>-9</td>\n",
       "      <td>1</td>\n",
       "      <td>1</td>\n",
       "      <td>NaN</td>\n",
       "    </tr>\n",
       "  </tbody>\n",
       "</table>\n",
       "<p>5 rows × 135 columns</p>\n",
       "</div>"
      ],
      "text/plain": [
       "        eventid  iyear  imonth  iday approxdate  extended resolution  country  \\\n",
       "0  197000000001   1970       7     2        NaN         0        NaN       58   \n",
       "1  197000000002   1970       0     0        NaN         0        NaN      130   \n",
       "2  197001000001   1970       1     0        NaN         0        NaN      160   \n",
       "3  197001000002   1970       1     0        NaN         0        NaN       78   \n",
       "4  197001000003   1970       1     0        NaN         0        NaN      101   \n",
       "\n",
       "          country_txt  region  ... addnotes scite1 scite2  scite3  dbsource  \\\n",
       "0  Dominican Republic       2  ...      NaN    NaN    NaN     NaN      PGIS   \n",
       "1              Mexico       1  ...      NaN    NaN    NaN     NaN      PGIS   \n",
       "2         Philippines       5  ...      NaN    NaN    NaN     NaN      PGIS   \n",
       "3              Greece       8  ...      NaN    NaN    NaN     NaN      PGIS   \n",
       "4               Japan       4  ...      NaN    NaN    NaN     NaN      PGIS   \n",
       "\n",
       "   INT_LOG  INT_IDEO INT_MISC INT_ANY  related  \n",
       "0        0         0        0       0      NaN  \n",
       "1        0         1        1       1      NaN  \n",
       "2       -9        -9        1       1      NaN  \n",
       "3       -9        -9        1       1      NaN  \n",
       "4       -9        -9        1       1      NaN  \n",
       "\n",
       "[5 rows x 135 columns]"
      ]
     },
     "execution_count": 3,
     "metadata": {},
     "output_type": "execute_result"
    }
   ],
   "source": [
    "td.head()"
   ]
  },
  {
   "cell_type": "code",
   "execution_count": 4,
   "id": "d383a89a",
   "metadata": {},
   "outputs": [
    {
     "data": {
      "text/html": [
       "<div>\n",
       "<style scoped>\n",
       "    .dataframe tbody tr th:only-of-type {\n",
       "        vertical-align: middle;\n",
       "    }\n",
       "\n",
       "    .dataframe tbody tr th {\n",
       "        vertical-align: top;\n",
       "    }\n",
       "\n",
       "    .dataframe thead th {\n",
       "        text-align: right;\n",
       "    }\n",
       "</style>\n",
       "<table border=\"1\" class=\"dataframe\">\n",
       "  <thead>\n",
       "    <tr style=\"text-align: right;\">\n",
       "      <th></th>\n",
       "      <th>eventid</th>\n",
       "      <th>iyear</th>\n",
       "      <th>imonth</th>\n",
       "      <th>iday</th>\n",
       "      <th>approxdate</th>\n",
       "      <th>extended</th>\n",
       "      <th>resolution</th>\n",
       "      <th>country</th>\n",
       "      <th>country_txt</th>\n",
       "      <th>region</th>\n",
       "      <th>...</th>\n",
       "      <th>addnotes</th>\n",
       "      <th>scite1</th>\n",
       "      <th>scite2</th>\n",
       "      <th>scite3</th>\n",
       "      <th>dbsource</th>\n",
       "      <th>INT_LOG</th>\n",
       "      <th>INT_IDEO</th>\n",
       "      <th>INT_MISC</th>\n",
       "      <th>INT_ANY</th>\n",
       "      <th>related</th>\n",
       "    </tr>\n",
       "  </thead>\n",
       "  <tbody>\n",
       "    <tr>\n",
       "      <th>181686</th>\n",
       "      <td>201712310022</td>\n",
       "      <td>2017</td>\n",
       "      <td>12</td>\n",
       "      <td>31</td>\n",
       "      <td>NaN</td>\n",
       "      <td>0</td>\n",
       "      <td>NaN</td>\n",
       "      <td>182</td>\n",
       "      <td>Somalia</td>\n",
       "      <td>11</td>\n",
       "      <td>...</td>\n",
       "      <td>NaN</td>\n",
       "      <td>\"Somalia: Al-Shabaab Militants Attack Army Che...</td>\n",
       "      <td>\"Highlights: Somalia Daily Media Highlights 2 ...</td>\n",
       "      <td>\"Highlights: Somalia Daily Media Highlights 1 ...</td>\n",
       "      <td>START Primary Collection</td>\n",
       "      <td>0</td>\n",
       "      <td>0</td>\n",
       "      <td>0</td>\n",
       "      <td>0</td>\n",
       "      <td>NaN</td>\n",
       "    </tr>\n",
       "    <tr>\n",
       "      <th>181687</th>\n",
       "      <td>201712310029</td>\n",
       "      <td>2017</td>\n",
       "      <td>12</td>\n",
       "      <td>31</td>\n",
       "      <td>NaN</td>\n",
       "      <td>0</td>\n",
       "      <td>NaN</td>\n",
       "      <td>200</td>\n",
       "      <td>Syria</td>\n",
       "      <td>10</td>\n",
       "      <td>...</td>\n",
       "      <td>NaN</td>\n",
       "      <td>\"Putin's 'victory' in Syria has turned into a ...</td>\n",
       "      <td>\"Two Russian soldiers killed at Hmeymim base i...</td>\n",
       "      <td>\"Two Russian servicemen killed in Syria mortar...</td>\n",
       "      <td>START Primary Collection</td>\n",
       "      <td>-9</td>\n",
       "      <td>-9</td>\n",
       "      <td>1</td>\n",
       "      <td>1</td>\n",
       "      <td>NaN</td>\n",
       "    </tr>\n",
       "    <tr>\n",
       "      <th>181688</th>\n",
       "      <td>201712310030</td>\n",
       "      <td>2017</td>\n",
       "      <td>12</td>\n",
       "      <td>31</td>\n",
       "      <td>NaN</td>\n",
       "      <td>0</td>\n",
       "      <td>NaN</td>\n",
       "      <td>160</td>\n",
       "      <td>Philippines</td>\n",
       "      <td>5</td>\n",
       "      <td>...</td>\n",
       "      <td>NaN</td>\n",
       "      <td>\"Maguindanao clashes trap tribe members,\" Phil...</td>\n",
       "      <td>NaN</td>\n",
       "      <td>NaN</td>\n",
       "      <td>START Primary Collection</td>\n",
       "      <td>0</td>\n",
       "      <td>0</td>\n",
       "      <td>0</td>\n",
       "      <td>0</td>\n",
       "      <td>NaN</td>\n",
       "    </tr>\n",
       "    <tr>\n",
       "      <th>181689</th>\n",
       "      <td>201712310031</td>\n",
       "      <td>2017</td>\n",
       "      <td>12</td>\n",
       "      <td>31</td>\n",
       "      <td>NaN</td>\n",
       "      <td>0</td>\n",
       "      <td>NaN</td>\n",
       "      <td>92</td>\n",
       "      <td>India</td>\n",
       "      <td>6</td>\n",
       "      <td>...</td>\n",
       "      <td>NaN</td>\n",
       "      <td>\"Trader escapes grenade attack in Imphal,\" Bus...</td>\n",
       "      <td>NaN</td>\n",
       "      <td>NaN</td>\n",
       "      <td>START Primary Collection</td>\n",
       "      <td>-9</td>\n",
       "      <td>-9</td>\n",
       "      <td>0</td>\n",
       "      <td>-9</td>\n",
       "      <td>NaN</td>\n",
       "    </tr>\n",
       "    <tr>\n",
       "      <th>181690</th>\n",
       "      <td>201712310032</td>\n",
       "      <td>2017</td>\n",
       "      <td>12</td>\n",
       "      <td>31</td>\n",
       "      <td>NaN</td>\n",
       "      <td>0</td>\n",
       "      <td>NaN</td>\n",
       "      <td>160</td>\n",
       "      <td>Philippines</td>\n",
       "      <td>5</td>\n",
       "      <td>...</td>\n",
       "      <td>NaN</td>\n",
       "      <td>\"Security tightened in Cotabato following IED ...</td>\n",
       "      <td>\"Security tightened in Cotabato City,\" Manila ...</td>\n",
       "      <td>NaN</td>\n",
       "      <td>START Primary Collection</td>\n",
       "      <td>-9</td>\n",
       "      <td>-9</td>\n",
       "      <td>0</td>\n",
       "      <td>-9</td>\n",
       "      <td>NaN</td>\n",
       "    </tr>\n",
       "  </tbody>\n",
       "</table>\n",
       "<p>5 rows × 135 columns</p>\n",
       "</div>"
      ],
      "text/plain": [
       "             eventid  iyear  imonth  iday approxdate  extended resolution  \\\n",
       "181686  201712310022   2017      12    31        NaN         0        NaN   \n",
       "181687  201712310029   2017      12    31        NaN         0        NaN   \n",
       "181688  201712310030   2017      12    31        NaN         0        NaN   \n",
       "181689  201712310031   2017      12    31        NaN         0        NaN   \n",
       "181690  201712310032   2017      12    31        NaN         0        NaN   \n",
       "\n",
       "        country  country_txt  region  ... addnotes  \\\n",
       "181686      182      Somalia      11  ...      NaN   \n",
       "181687      200        Syria      10  ...      NaN   \n",
       "181688      160  Philippines       5  ...      NaN   \n",
       "181689       92        India       6  ...      NaN   \n",
       "181690      160  Philippines       5  ...      NaN   \n",
       "\n",
       "                                                   scite1  \\\n",
       "181686  \"Somalia: Al-Shabaab Militants Attack Army Che...   \n",
       "181687  \"Putin's 'victory' in Syria has turned into a ...   \n",
       "181688  \"Maguindanao clashes trap tribe members,\" Phil...   \n",
       "181689  \"Trader escapes grenade attack in Imphal,\" Bus...   \n",
       "181690  \"Security tightened in Cotabato following IED ...   \n",
       "\n",
       "                                                   scite2  \\\n",
       "181686  \"Highlights: Somalia Daily Media Highlights 2 ...   \n",
       "181687  \"Two Russian soldiers killed at Hmeymim base i...   \n",
       "181688                                                NaN   \n",
       "181689                                                NaN   \n",
       "181690  \"Security tightened in Cotabato City,\" Manila ...   \n",
       "\n",
       "                                                   scite3  \\\n",
       "181686  \"Highlights: Somalia Daily Media Highlights 1 ...   \n",
       "181687  \"Two Russian servicemen killed in Syria mortar...   \n",
       "181688                                                NaN   \n",
       "181689                                                NaN   \n",
       "181690                                                NaN   \n",
       "\n",
       "                        dbsource  INT_LOG  INT_IDEO INT_MISC INT_ANY  related  \n",
       "181686  START Primary Collection        0         0        0       0      NaN  \n",
       "181687  START Primary Collection       -9        -9        1       1      NaN  \n",
       "181688  START Primary Collection        0         0        0       0      NaN  \n",
       "181689  START Primary Collection       -9        -9        0      -9      NaN  \n",
       "181690  START Primary Collection       -9        -9        0      -9      NaN  \n",
       "\n",
       "[5 rows x 135 columns]"
      ]
     },
     "execution_count": 4,
     "metadata": {},
     "output_type": "execute_result"
    }
   ],
   "source": [
    "td.tail()"
   ]
  },
  {
   "cell_type": "code",
   "execution_count": 5,
   "id": "56c070d5",
   "metadata": {},
   "outputs": [
    {
     "data": {
      "text/plain": [
       "array(['eventid', 'iyear', 'imonth', 'iday', 'approxdate', 'extended',\n",
       "       'resolution', 'country', 'country_txt', 'region', 'region_txt',\n",
       "       'provstate', 'city', 'latitude', 'longitude', 'specificity',\n",
       "       'vicinity', 'location', 'summary', 'crit1', 'crit2', 'crit3',\n",
       "       'doubtterr', 'alternative', 'alternative_txt', 'multiple',\n",
       "       'success', 'suicide', 'attacktype1', 'attacktype1_txt',\n",
       "       'attacktype2', 'attacktype2_txt', 'attacktype3', 'attacktype3_txt',\n",
       "       'targtype1', 'targtype1_txt', 'targsubtype1', 'targsubtype1_txt',\n",
       "       'corp1', 'target1', 'natlty1', 'natlty1_txt', 'targtype2',\n",
       "       'targtype2_txt', 'targsubtype2', 'targsubtype2_txt', 'corp2',\n",
       "       'target2', 'natlty2', 'natlty2_txt', 'targtype3', 'targtype3_txt',\n",
       "       'targsubtype3', 'targsubtype3_txt', 'corp3', 'target3', 'natlty3',\n",
       "       'natlty3_txt', 'gname', 'gsubname', 'gname2', 'gsubname2',\n",
       "       'gname3', 'gsubname3', 'motive', 'guncertain1', 'guncertain2',\n",
       "       'guncertain3', 'individual', 'nperps', 'nperpcap', 'claimed',\n",
       "       'claimmode', 'claimmode_txt', 'claim2', 'claimmode2',\n",
       "       'claimmode2_txt', 'claim3', 'claimmode3', 'claimmode3_txt',\n",
       "       'compclaim', 'weaptype1', 'weaptype1_txt', 'weapsubtype1',\n",
       "       'weapsubtype1_txt', 'weaptype2', 'weaptype2_txt', 'weapsubtype2',\n",
       "       'weapsubtype2_txt', 'weaptype3', 'weaptype3_txt', 'weapsubtype3',\n",
       "       'weapsubtype3_txt', 'weaptype4', 'weaptype4_txt', 'weapsubtype4',\n",
       "       'weapsubtype4_txt', 'weapdetail', 'nkill', 'nkillus', 'nkillter',\n",
       "       'nwound', 'nwoundus', 'nwoundte', 'property', 'propextent',\n",
       "       'propextent_txt', 'propvalue', 'propcomment', 'ishostkid',\n",
       "       'nhostkid', 'nhostkidus', 'nhours', 'ndays', 'divert',\n",
       "       'kidhijcountry', 'ransom', 'ransomamt', 'ransomamtus',\n",
       "       'ransompaid', 'ransompaidus', 'ransomnote', 'hostkidoutcome',\n",
       "       'hostkidoutcome_txt', 'nreleased', 'addnotes', 'scite1', 'scite2',\n",
       "       'scite3', 'dbsource', 'INT_LOG', 'INT_IDEO', 'INT_MISC', 'INT_ANY',\n",
       "       'related'], dtype=object)"
      ]
     },
     "execution_count": 5,
     "metadata": {},
     "output_type": "execute_result"
    }
   ],
   "source": [
    "td.columns.values #Get a list of a particular column values"
   ]
  },
  {
   "cell_type": "code",
   "execution_count": 6,
   "id": "9bf37ba5",
   "metadata": {},
   "outputs": [
    {
     "data": {
      "text/html": [
       "<div>\n",
       "<style scoped>\n",
       "    .dataframe tbody tr th:only-of-type {\n",
       "        vertical-align: middle;\n",
       "    }\n",
       "\n",
       "    .dataframe tbody tr th {\n",
       "        vertical-align: top;\n",
       "    }\n",
       "\n",
       "    .dataframe thead th {\n",
       "        text-align: right;\n",
       "    }\n",
       "</style>\n",
       "<table border=\"1\" class=\"dataframe\">\n",
       "  <thead>\n",
       "    <tr style=\"text-align: right;\">\n",
       "      <th></th>\n",
       "      <th>eventid</th>\n",
       "      <th>iyear</th>\n",
       "      <th>imonth</th>\n",
       "      <th>iday</th>\n",
       "      <th>extended</th>\n",
       "      <th>country</th>\n",
       "      <th>region</th>\n",
       "      <th>latitude</th>\n",
       "      <th>longitude</th>\n",
       "      <th>specificity</th>\n",
       "      <th>...</th>\n",
       "      <th>ransomamt</th>\n",
       "      <th>ransomamtus</th>\n",
       "      <th>ransompaid</th>\n",
       "      <th>ransompaidus</th>\n",
       "      <th>hostkidoutcome</th>\n",
       "      <th>nreleased</th>\n",
       "      <th>INT_LOG</th>\n",
       "      <th>INT_IDEO</th>\n",
       "      <th>INT_MISC</th>\n",
       "      <th>INT_ANY</th>\n",
       "    </tr>\n",
       "  </thead>\n",
       "  <tbody>\n",
       "    <tr>\n",
       "      <th>count</th>\n",
       "      <td>1.816910e+05</td>\n",
       "      <td>181691.000000</td>\n",
       "      <td>181691.000000</td>\n",
       "      <td>181691.000000</td>\n",
       "      <td>181691.000000</td>\n",
       "      <td>181691.000000</td>\n",
       "      <td>181691.000000</td>\n",
       "      <td>177135.000000</td>\n",
       "      <td>1.771340e+05</td>\n",
       "      <td>181685.000000</td>\n",
       "      <td>...</td>\n",
       "      <td>1.350000e+03</td>\n",
       "      <td>5.630000e+02</td>\n",
       "      <td>7.740000e+02</td>\n",
       "      <td>552.000000</td>\n",
       "      <td>10991.000000</td>\n",
       "      <td>10400.000000</td>\n",
       "      <td>181691.000000</td>\n",
       "      <td>181691.000000</td>\n",
       "      <td>181691.000000</td>\n",
       "      <td>181691.000000</td>\n",
       "    </tr>\n",
       "    <tr>\n",
       "      <th>mean</th>\n",
       "      <td>2.002705e+11</td>\n",
       "      <td>2002.638997</td>\n",
       "      <td>6.467277</td>\n",
       "      <td>15.505644</td>\n",
       "      <td>0.045346</td>\n",
       "      <td>131.968501</td>\n",
       "      <td>7.160938</td>\n",
       "      <td>23.498343</td>\n",
       "      <td>-4.586957e+02</td>\n",
       "      <td>1.451452</td>\n",
       "      <td>...</td>\n",
       "      <td>3.172530e+06</td>\n",
       "      <td>5.784865e+05</td>\n",
       "      <td>7.179437e+05</td>\n",
       "      <td>240.378623</td>\n",
       "      <td>4.629242</td>\n",
       "      <td>-29.018269</td>\n",
       "      <td>-4.543731</td>\n",
       "      <td>-4.464398</td>\n",
       "      <td>0.090010</td>\n",
       "      <td>-3.945952</td>\n",
       "    </tr>\n",
       "    <tr>\n",
       "      <th>std</th>\n",
       "      <td>1.325957e+09</td>\n",
       "      <td>13.259430</td>\n",
       "      <td>3.388303</td>\n",
       "      <td>8.814045</td>\n",
       "      <td>0.208063</td>\n",
       "      <td>112.414535</td>\n",
       "      <td>2.933408</td>\n",
       "      <td>18.569242</td>\n",
       "      <td>2.047790e+05</td>\n",
       "      <td>0.995430</td>\n",
       "      <td>...</td>\n",
       "      <td>3.021157e+07</td>\n",
       "      <td>7.077924e+06</td>\n",
       "      <td>1.014392e+07</td>\n",
       "      <td>2940.967293</td>\n",
       "      <td>2.035360</td>\n",
       "      <td>65.720119</td>\n",
       "      <td>4.543547</td>\n",
       "      <td>4.637152</td>\n",
       "      <td>0.568457</td>\n",
       "      <td>4.691325</td>\n",
       "    </tr>\n",
       "    <tr>\n",
       "      <th>min</th>\n",
       "      <td>1.970000e+11</td>\n",
       "      <td>1970.000000</td>\n",
       "      <td>0.000000</td>\n",
       "      <td>0.000000</td>\n",
       "      <td>0.000000</td>\n",
       "      <td>4.000000</td>\n",
       "      <td>1.000000</td>\n",
       "      <td>-53.154613</td>\n",
       "      <td>-8.618590e+07</td>\n",
       "      <td>1.000000</td>\n",
       "      <td>...</td>\n",
       "      <td>-9.900000e+01</td>\n",
       "      <td>-9.900000e+01</td>\n",
       "      <td>-9.900000e+01</td>\n",
       "      <td>-99.000000</td>\n",
       "      <td>1.000000</td>\n",
       "      <td>-99.000000</td>\n",
       "      <td>-9.000000</td>\n",
       "      <td>-9.000000</td>\n",
       "      <td>-9.000000</td>\n",
       "      <td>-9.000000</td>\n",
       "    </tr>\n",
       "    <tr>\n",
       "      <th>25%</th>\n",
       "      <td>1.991021e+11</td>\n",
       "      <td>1991.000000</td>\n",
       "      <td>4.000000</td>\n",
       "      <td>8.000000</td>\n",
       "      <td>0.000000</td>\n",
       "      <td>78.000000</td>\n",
       "      <td>5.000000</td>\n",
       "      <td>11.510046</td>\n",
       "      <td>4.545640e+00</td>\n",
       "      <td>1.000000</td>\n",
       "      <td>...</td>\n",
       "      <td>0.000000e+00</td>\n",
       "      <td>0.000000e+00</td>\n",
       "      <td>-9.900000e+01</td>\n",
       "      <td>0.000000</td>\n",
       "      <td>2.000000</td>\n",
       "      <td>-99.000000</td>\n",
       "      <td>-9.000000</td>\n",
       "      <td>-9.000000</td>\n",
       "      <td>0.000000</td>\n",
       "      <td>-9.000000</td>\n",
       "    </tr>\n",
       "    <tr>\n",
       "      <th>50%</th>\n",
       "      <td>2.009022e+11</td>\n",
       "      <td>2009.000000</td>\n",
       "      <td>6.000000</td>\n",
       "      <td>15.000000</td>\n",
       "      <td>0.000000</td>\n",
       "      <td>98.000000</td>\n",
       "      <td>6.000000</td>\n",
       "      <td>31.467463</td>\n",
       "      <td>4.324651e+01</td>\n",
       "      <td>1.000000</td>\n",
       "      <td>...</td>\n",
       "      <td>1.500000e+04</td>\n",
       "      <td>0.000000e+00</td>\n",
       "      <td>0.000000e+00</td>\n",
       "      <td>0.000000</td>\n",
       "      <td>4.000000</td>\n",
       "      <td>0.000000</td>\n",
       "      <td>-9.000000</td>\n",
       "      <td>-9.000000</td>\n",
       "      <td>0.000000</td>\n",
       "      <td>0.000000</td>\n",
       "    </tr>\n",
       "    <tr>\n",
       "      <th>75%</th>\n",
       "      <td>2.014081e+11</td>\n",
       "      <td>2014.000000</td>\n",
       "      <td>9.000000</td>\n",
       "      <td>23.000000</td>\n",
       "      <td>0.000000</td>\n",
       "      <td>160.000000</td>\n",
       "      <td>10.000000</td>\n",
       "      <td>34.685087</td>\n",
       "      <td>6.871033e+01</td>\n",
       "      <td>1.000000</td>\n",
       "      <td>...</td>\n",
       "      <td>4.000000e+05</td>\n",
       "      <td>0.000000e+00</td>\n",
       "      <td>1.273412e+03</td>\n",
       "      <td>0.000000</td>\n",
       "      <td>7.000000</td>\n",
       "      <td>1.000000</td>\n",
       "      <td>0.000000</td>\n",
       "      <td>0.000000</td>\n",
       "      <td>0.000000</td>\n",
       "      <td>0.000000</td>\n",
       "    </tr>\n",
       "    <tr>\n",
       "      <th>max</th>\n",
       "      <td>2.017123e+11</td>\n",
       "      <td>2017.000000</td>\n",
       "      <td>12.000000</td>\n",
       "      <td>31.000000</td>\n",
       "      <td>1.000000</td>\n",
       "      <td>1004.000000</td>\n",
       "      <td>12.000000</td>\n",
       "      <td>74.633553</td>\n",
       "      <td>1.793667e+02</td>\n",
       "      <td>5.000000</td>\n",
       "      <td>...</td>\n",
       "      <td>1.000000e+09</td>\n",
       "      <td>1.320000e+08</td>\n",
       "      <td>2.750000e+08</td>\n",
       "      <td>48000.000000</td>\n",
       "      <td>7.000000</td>\n",
       "      <td>2769.000000</td>\n",
       "      <td>1.000000</td>\n",
       "      <td>1.000000</td>\n",
       "      <td>1.000000</td>\n",
       "      <td>1.000000</td>\n",
       "    </tr>\n",
       "  </tbody>\n",
       "</table>\n",
       "<p>8 rows × 77 columns</p>\n",
       "</div>"
      ],
      "text/plain": [
       "            eventid          iyear         imonth           iday  \\\n",
       "count  1.816910e+05  181691.000000  181691.000000  181691.000000   \n",
       "mean   2.002705e+11    2002.638997       6.467277      15.505644   \n",
       "std    1.325957e+09      13.259430       3.388303       8.814045   \n",
       "min    1.970000e+11    1970.000000       0.000000       0.000000   \n",
       "25%    1.991021e+11    1991.000000       4.000000       8.000000   \n",
       "50%    2.009022e+11    2009.000000       6.000000      15.000000   \n",
       "75%    2.014081e+11    2014.000000       9.000000      23.000000   \n",
       "max    2.017123e+11    2017.000000      12.000000      31.000000   \n",
       "\n",
       "            extended        country         region       latitude  \\\n",
       "count  181691.000000  181691.000000  181691.000000  177135.000000   \n",
       "mean        0.045346     131.968501       7.160938      23.498343   \n",
       "std         0.208063     112.414535       2.933408      18.569242   \n",
       "min         0.000000       4.000000       1.000000     -53.154613   \n",
       "25%         0.000000      78.000000       5.000000      11.510046   \n",
       "50%         0.000000      98.000000       6.000000      31.467463   \n",
       "75%         0.000000     160.000000      10.000000      34.685087   \n",
       "max         1.000000    1004.000000      12.000000      74.633553   \n",
       "\n",
       "          longitude    specificity  ...     ransomamt   ransomamtus  \\\n",
       "count  1.771340e+05  181685.000000  ...  1.350000e+03  5.630000e+02   \n",
       "mean  -4.586957e+02       1.451452  ...  3.172530e+06  5.784865e+05   \n",
       "std    2.047790e+05       0.995430  ...  3.021157e+07  7.077924e+06   \n",
       "min   -8.618590e+07       1.000000  ... -9.900000e+01 -9.900000e+01   \n",
       "25%    4.545640e+00       1.000000  ...  0.000000e+00  0.000000e+00   \n",
       "50%    4.324651e+01       1.000000  ...  1.500000e+04  0.000000e+00   \n",
       "75%    6.871033e+01       1.000000  ...  4.000000e+05  0.000000e+00   \n",
       "max    1.793667e+02       5.000000  ...  1.000000e+09  1.320000e+08   \n",
       "\n",
       "         ransompaid  ransompaidus  hostkidoutcome     nreleased  \\\n",
       "count  7.740000e+02    552.000000    10991.000000  10400.000000   \n",
       "mean   7.179437e+05    240.378623        4.629242    -29.018269   \n",
       "std    1.014392e+07   2940.967293        2.035360     65.720119   \n",
       "min   -9.900000e+01    -99.000000        1.000000    -99.000000   \n",
       "25%   -9.900000e+01      0.000000        2.000000    -99.000000   \n",
       "50%    0.000000e+00      0.000000        4.000000      0.000000   \n",
       "75%    1.273412e+03      0.000000        7.000000      1.000000   \n",
       "max    2.750000e+08  48000.000000        7.000000   2769.000000   \n",
       "\n",
       "             INT_LOG       INT_IDEO       INT_MISC        INT_ANY  \n",
       "count  181691.000000  181691.000000  181691.000000  181691.000000  \n",
       "mean       -4.543731      -4.464398       0.090010      -3.945952  \n",
       "std         4.543547       4.637152       0.568457       4.691325  \n",
       "min        -9.000000      -9.000000      -9.000000      -9.000000  \n",
       "25%        -9.000000      -9.000000       0.000000      -9.000000  \n",
       "50%        -9.000000      -9.000000       0.000000       0.000000  \n",
       "75%         0.000000       0.000000       0.000000       0.000000  \n",
       "max         1.000000       1.000000       1.000000       1.000000  \n",
       "\n",
       "[8 rows x 77 columns]"
      ]
     },
     "execution_count": 6,
     "metadata": {},
     "output_type": "execute_result"
    }
   ],
   "source": [
    "td.describe() #view statistical details"
   ]
  },
  {
   "cell_type": "code",
   "execution_count": 7,
   "id": "9240e50f",
   "metadata": {},
   "outputs": [
    {
     "data": {
      "text/html": [
       "<div>\n",
       "<style scoped>\n",
       "    .dataframe tbody tr th:only-of-type {\n",
       "        vertical-align: middle;\n",
       "    }\n",
       "\n",
       "    .dataframe tbody tr th {\n",
       "        vertical-align: top;\n",
       "    }\n",
       "\n",
       "    .dataframe thead th {\n",
       "        text-align: right;\n",
       "    }\n",
       "</style>\n",
       "<table border=\"1\" class=\"dataframe\">\n",
       "  <thead>\n",
       "    <tr style=\"text-align: right;\">\n",
       "      <th></th>\n",
       "      <th>eventid</th>\n",
       "      <th>iyear</th>\n",
       "      <th>imonth</th>\n",
       "      <th>iday</th>\n",
       "      <th>extended</th>\n",
       "      <th>country</th>\n",
       "      <th>region</th>\n",
       "      <th>latitude</th>\n",
       "      <th>longitude</th>\n",
       "      <th>specificity</th>\n",
       "      <th>...</th>\n",
       "      <th>ransomamt</th>\n",
       "      <th>ransomamtus</th>\n",
       "      <th>ransompaid</th>\n",
       "      <th>ransompaidus</th>\n",
       "      <th>hostkidoutcome</th>\n",
       "      <th>nreleased</th>\n",
       "      <th>INT_LOG</th>\n",
       "      <th>INT_IDEO</th>\n",
       "      <th>INT_MISC</th>\n",
       "      <th>INT_ANY</th>\n",
       "    </tr>\n",
       "  </thead>\n",
       "  <tbody>\n",
       "    <tr>\n",
       "      <th>eventid</th>\n",
       "      <td>1.000000</td>\n",
       "      <td>0.999996</td>\n",
       "      <td>0.002706</td>\n",
       "      <td>0.018336</td>\n",
       "      <td>0.091761</td>\n",
       "      <td>-0.135039</td>\n",
       "      <td>0.401371</td>\n",
       "      <td>0.166886</td>\n",
       "      <td>0.003907</td>\n",
       "      <td>0.030641</td>\n",
       "      <td>...</td>\n",
       "      <td>-0.009990</td>\n",
       "      <td>-0.018001</td>\n",
       "      <td>-0.014094</td>\n",
       "      <td>-0.165422</td>\n",
       "      <td>0.256113</td>\n",
       "      <td>-0.181612</td>\n",
       "      <td>-0.143600</td>\n",
       "      <td>-0.133252</td>\n",
       "      <td>-0.077852</td>\n",
       "      <td>-0.175605</td>\n",
       "    </tr>\n",
       "    <tr>\n",
       "      <th>iyear</th>\n",
       "      <td>0.999996</td>\n",
       "      <td>1.000000</td>\n",
       "      <td>0.000139</td>\n",
       "      <td>0.018254</td>\n",
       "      <td>0.091754</td>\n",
       "      <td>-0.135023</td>\n",
       "      <td>0.401384</td>\n",
       "      <td>0.166933</td>\n",
       "      <td>0.003917</td>\n",
       "      <td>0.030626</td>\n",
       "      <td>...</td>\n",
       "      <td>-0.009984</td>\n",
       "      <td>-0.018216</td>\n",
       "      <td>-0.014238</td>\n",
       "      <td>-0.165375</td>\n",
       "      <td>0.256092</td>\n",
       "      <td>-0.181556</td>\n",
       "      <td>-0.143601</td>\n",
       "      <td>-0.133253</td>\n",
       "      <td>-0.077847</td>\n",
       "      <td>-0.175596</td>\n",
       "    </tr>\n",
       "    <tr>\n",
       "      <th>imonth</th>\n",
       "      <td>0.002706</td>\n",
       "      <td>0.000139</td>\n",
       "      <td>1.000000</td>\n",
       "      <td>0.005497</td>\n",
       "      <td>-0.000468</td>\n",
       "      <td>-0.006305</td>\n",
       "      <td>-0.002999</td>\n",
       "      <td>-0.015978</td>\n",
       "      <td>-0.003880</td>\n",
       "      <td>0.003621</td>\n",
       "      <td>...</td>\n",
       "      <td>-0.000710</td>\n",
       "      <td>0.046989</td>\n",
       "      <td>0.058878</td>\n",
       "      <td>-0.016597</td>\n",
       "      <td>0.011295</td>\n",
       "      <td>-0.011535</td>\n",
       "      <td>-0.002302</td>\n",
       "      <td>-0.002034</td>\n",
       "      <td>-0.002554</td>\n",
       "      <td>-0.006336</td>\n",
       "    </tr>\n",
       "    <tr>\n",
       "      <th>iday</th>\n",
       "      <td>0.018336</td>\n",
       "      <td>0.018254</td>\n",
       "      <td>0.005497</td>\n",
       "      <td>1.000000</td>\n",
       "      <td>-0.004700</td>\n",
       "      <td>0.003468</td>\n",
       "      <td>0.009710</td>\n",
       "      <td>0.003423</td>\n",
       "      <td>-0.002285</td>\n",
       "      <td>-0.006991</td>\n",
       "      <td>...</td>\n",
       "      <td>0.012755</td>\n",
       "      <td>-0.010502</td>\n",
       "      <td>0.003148</td>\n",
       "      <td>-0.006581</td>\n",
       "      <td>-0.006706</td>\n",
       "      <td>0.001765</td>\n",
       "      <td>-0.001540</td>\n",
       "      <td>-0.001621</td>\n",
       "      <td>-0.002027</td>\n",
       "      <td>-0.001199</td>\n",
       "    </tr>\n",
       "    <tr>\n",
       "      <th>extended</th>\n",
       "      <td>0.091761</td>\n",
       "      <td>0.091754</td>\n",
       "      <td>-0.000468</td>\n",
       "      <td>-0.004700</td>\n",
       "      <td>1.000000</td>\n",
       "      <td>-0.020466</td>\n",
       "      <td>0.038389</td>\n",
       "      <td>-0.024749</td>\n",
       "      <td>0.000523</td>\n",
       "      <td>0.057897</td>\n",
       "      <td>...</td>\n",
       "      <td>-0.008114</td>\n",
       "      <td>0.028177</td>\n",
       "      <td>0.001966</td>\n",
       "      <td>0.009367</td>\n",
       "      <td>0.233293</td>\n",
       "      <td>-0.192155</td>\n",
       "      <td>0.071768</td>\n",
       "      <td>0.075147</td>\n",
       "      <td>0.027335</td>\n",
       "      <td>0.080767</td>\n",
       "    </tr>\n",
       "    <tr>\n",
       "      <th>...</th>\n",
       "      <td>...</td>\n",
       "      <td>...</td>\n",
       "      <td>...</td>\n",
       "      <td>...</td>\n",
       "      <td>...</td>\n",
       "      <td>...</td>\n",
       "      <td>...</td>\n",
       "      <td>...</td>\n",
       "      <td>...</td>\n",
       "      <td>...</td>\n",
       "      <td>...</td>\n",
       "      <td>...</td>\n",
       "      <td>...</td>\n",
       "      <td>...</td>\n",
       "      <td>...</td>\n",
       "      <td>...</td>\n",
       "      <td>...</td>\n",
       "      <td>...</td>\n",
       "      <td>...</td>\n",
       "      <td>...</td>\n",
       "      <td>...</td>\n",
       "    </tr>\n",
       "    <tr>\n",
       "      <th>nreleased</th>\n",
       "      <td>-0.181612</td>\n",
       "      <td>-0.181556</td>\n",
       "      <td>-0.011535</td>\n",
       "      <td>0.001765</td>\n",
       "      <td>-0.192155</td>\n",
       "      <td>-0.044331</td>\n",
       "      <td>-0.149511</td>\n",
       "      <td>0.002790</td>\n",
       "      <td>-0.017745</td>\n",
       "      <td>-0.030631</td>\n",
       "      <td>...</td>\n",
       "      <td>0.054571</td>\n",
       "      <td>0.034843</td>\n",
       "      <td>0.049322</td>\n",
       "      <td>0.016832</td>\n",
       "      <td>-0.555478</td>\n",
       "      <td>1.000000</td>\n",
       "      <td>0.039388</td>\n",
       "      <td>0.040947</td>\n",
       "      <td>0.085055</td>\n",
       "      <td>0.064759</td>\n",
       "    </tr>\n",
       "    <tr>\n",
       "      <th>INT_LOG</th>\n",
       "      <td>-0.143600</td>\n",
       "      <td>-0.143601</td>\n",
       "      <td>-0.002302</td>\n",
       "      <td>-0.001540</td>\n",
       "      <td>0.071768</td>\n",
       "      <td>0.069904</td>\n",
       "      <td>-0.082584</td>\n",
       "      <td>-0.099827</td>\n",
       "      <td>0.002272</td>\n",
       "      <td>0.073022</td>\n",
       "      <td>...</td>\n",
       "      <td>0.035821</td>\n",
       "      <td>0.031079</td>\n",
       "      <td>0.007029</td>\n",
       "      <td>-0.045504</td>\n",
       "      <td>-0.015442</td>\n",
       "      <td>0.039388</td>\n",
       "      <td>1.000000</td>\n",
       "      <td>0.996211</td>\n",
       "      <td>0.052537</td>\n",
       "      <td>0.891051</td>\n",
       "    </tr>\n",
       "    <tr>\n",
       "      <th>INT_IDEO</th>\n",
       "      <td>-0.133252</td>\n",
       "      <td>-0.133253</td>\n",
       "      <td>-0.002034</td>\n",
       "      <td>-0.001621</td>\n",
       "      <td>0.075147</td>\n",
       "      <td>0.067564</td>\n",
       "      <td>-0.071917</td>\n",
       "      <td>-0.094470</td>\n",
       "      <td>0.002268</td>\n",
       "      <td>0.071333</td>\n",
       "      <td>...</td>\n",
       "      <td>0.039053</td>\n",
       "      <td>0.041983</td>\n",
       "      <td>0.013162</td>\n",
       "      <td>-0.039844</td>\n",
       "      <td>-0.016234</td>\n",
       "      <td>0.040947</td>\n",
       "      <td>0.996211</td>\n",
       "      <td>1.000000</td>\n",
       "      <td>0.082014</td>\n",
       "      <td>0.893811</td>\n",
       "    </tr>\n",
       "    <tr>\n",
       "      <th>INT_MISC</th>\n",
       "      <td>-0.077852</td>\n",
       "      <td>-0.077847</td>\n",
       "      <td>-0.002554</td>\n",
       "      <td>-0.002027</td>\n",
       "      <td>0.027335</td>\n",
       "      <td>0.207281</td>\n",
       "      <td>0.043139</td>\n",
       "      <td>0.097652</td>\n",
       "      <td>0.000371</td>\n",
       "      <td>-0.019197</td>\n",
       "      <td>...</td>\n",
       "      <td>0.023815</td>\n",
       "      <td>0.125162</td>\n",
       "      <td>0.037227</td>\n",
       "      <td>0.129274</td>\n",
       "      <td>-0.119776</td>\n",
       "      <td>0.085055</td>\n",
       "      <td>0.052537</td>\n",
       "      <td>0.082014</td>\n",
       "      <td>1.000000</td>\n",
       "      <td>0.252193</td>\n",
       "    </tr>\n",
       "    <tr>\n",
       "      <th>INT_ANY</th>\n",
       "      <td>-0.175605</td>\n",
       "      <td>-0.175596</td>\n",
       "      <td>-0.006336</td>\n",
       "      <td>-0.001199</td>\n",
       "      <td>0.080767</td>\n",
       "      <td>0.153118</td>\n",
       "      <td>-0.047900</td>\n",
       "      <td>-0.041530</td>\n",
       "      <td>0.002497</td>\n",
       "      <td>0.061389</td>\n",
       "      <td>...</td>\n",
       "      <td>0.028054</td>\n",
       "      <td>0.053484</td>\n",
       "      <td>0.007275</td>\n",
       "      <td>0.056438</td>\n",
       "      <td>-0.061946</td>\n",
       "      <td>0.064759</td>\n",
       "      <td>0.891051</td>\n",
       "      <td>0.893811</td>\n",
       "      <td>0.252193</td>\n",
       "      <td>1.000000</td>\n",
       "    </tr>\n",
       "  </tbody>\n",
       "</table>\n",
       "<p>77 rows × 77 columns</p>\n",
       "</div>"
      ],
      "text/plain": [
       "            eventid     iyear    imonth      iday  extended   country  \\\n",
       "eventid    1.000000  0.999996  0.002706  0.018336  0.091761 -0.135039   \n",
       "iyear      0.999996  1.000000  0.000139  0.018254  0.091754 -0.135023   \n",
       "imonth     0.002706  0.000139  1.000000  0.005497 -0.000468 -0.006305   \n",
       "iday       0.018336  0.018254  0.005497  1.000000 -0.004700  0.003468   \n",
       "extended   0.091761  0.091754 -0.000468 -0.004700  1.000000 -0.020466   \n",
       "...             ...       ...       ...       ...       ...       ...   \n",
       "nreleased -0.181612 -0.181556 -0.011535  0.001765 -0.192155 -0.044331   \n",
       "INT_LOG   -0.143600 -0.143601 -0.002302 -0.001540  0.071768  0.069904   \n",
       "INT_IDEO  -0.133252 -0.133253 -0.002034 -0.001621  0.075147  0.067564   \n",
       "INT_MISC  -0.077852 -0.077847 -0.002554 -0.002027  0.027335  0.207281   \n",
       "INT_ANY   -0.175605 -0.175596 -0.006336 -0.001199  0.080767  0.153118   \n",
       "\n",
       "             region  latitude  longitude  specificity  ...  ransomamt  \\\n",
       "eventid    0.401371  0.166886   0.003907     0.030641  ...  -0.009990   \n",
       "iyear      0.401384  0.166933   0.003917     0.030626  ...  -0.009984   \n",
       "imonth    -0.002999 -0.015978  -0.003880     0.003621  ...  -0.000710   \n",
       "iday       0.009710  0.003423  -0.002285    -0.006991  ...   0.012755   \n",
       "extended   0.038389 -0.024749   0.000523     0.057897  ...  -0.008114   \n",
       "...             ...       ...        ...          ...  ...        ...   \n",
       "nreleased -0.149511  0.002790  -0.017745    -0.030631  ...   0.054571   \n",
       "INT_LOG   -0.082584 -0.099827   0.002272     0.073022  ...   0.035821   \n",
       "INT_IDEO  -0.071917 -0.094470   0.002268     0.071333  ...   0.039053   \n",
       "INT_MISC   0.043139  0.097652   0.000371    -0.019197  ...   0.023815   \n",
       "INT_ANY   -0.047900 -0.041530   0.002497     0.061389  ...   0.028054   \n",
       "\n",
       "           ransomamtus  ransompaid  ransompaidus  hostkidoutcome  nreleased  \\\n",
       "eventid      -0.018001   -0.014094     -0.165422        0.256113  -0.181612   \n",
       "iyear        -0.018216   -0.014238     -0.165375        0.256092  -0.181556   \n",
       "imonth        0.046989    0.058878     -0.016597        0.011295  -0.011535   \n",
       "iday         -0.010502    0.003148     -0.006581       -0.006706   0.001765   \n",
       "extended      0.028177    0.001966      0.009367        0.233293  -0.192155   \n",
       "...                ...         ...           ...             ...        ...   \n",
       "nreleased     0.034843    0.049322      0.016832       -0.555478   1.000000   \n",
       "INT_LOG       0.031079    0.007029     -0.045504       -0.015442   0.039388   \n",
       "INT_IDEO      0.041983    0.013162     -0.039844       -0.016234   0.040947   \n",
       "INT_MISC      0.125162    0.037227      0.129274       -0.119776   0.085055   \n",
       "INT_ANY       0.053484    0.007275      0.056438       -0.061946   0.064759   \n",
       "\n",
       "            INT_LOG  INT_IDEO  INT_MISC   INT_ANY  \n",
       "eventid   -0.143600 -0.133252 -0.077852 -0.175605  \n",
       "iyear     -0.143601 -0.133253 -0.077847 -0.175596  \n",
       "imonth    -0.002302 -0.002034 -0.002554 -0.006336  \n",
       "iday      -0.001540 -0.001621 -0.002027 -0.001199  \n",
       "extended   0.071768  0.075147  0.027335  0.080767  \n",
       "...             ...       ...       ...       ...  \n",
       "nreleased  0.039388  0.040947  0.085055  0.064759  \n",
       "INT_LOG    1.000000  0.996211  0.052537  0.891051  \n",
       "INT_IDEO   0.996211  1.000000  0.082014  0.893811  \n",
       "INT_MISC   0.052537  0.082014  1.000000  0.252193  \n",
       "INT_ANY    0.891051  0.893811  0.252193  1.000000  \n",
       "\n",
       "[77 rows x 77 columns]"
      ]
     },
     "execution_count": 7,
     "metadata": {},
     "output_type": "execute_result"
    }
   ],
   "source": [
    "td.corr()"
   ]
  },
  {
   "cell_type": "code",
   "execution_count": 8,
   "id": "28f37e72",
   "metadata": {},
   "outputs": [
    {
     "name": "stdout",
     "output_type": "stream",
     "text": [
      "eventid            0\n",
      "iyear              0\n",
      "imonth             0\n",
      "iday               0\n",
      "approxdate    172452\n",
      "               ...  \n",
      "INT_LOG            0\n",
      "INT_IDEO           0\n",
      "INT_MISC           0\n",
      "INT_ANY            0\n",
      "related       156653\n",
      "Length: 135, dtype: int64\n"
     ]
    }
   ],
   "source": [
    "print(td.isnull().sum())"
   ]
  },
  {
   "cell_type": "code",
   "execution_count": 9,
   "id": "fa794669",
   "metadata": {},
   "outputs": [
    {
     "data": {
      "text/plain": [
       "<bound method DataFrame.info of              eventid  iyear  imonth  iday approxdate  extended resolution  \\\n",
       "0       197000000001   1970       7     2        NaN         0        NaN   \n",
       "1       197000000002   1970       0     0        NaN         0        NaN   \n",
       "2       197001000001   1970       1     0        NaN         0        NaN   \n",
       "3       197001000002   1970       1     0        NaN         0        NaN   \n",
       "4       197001000003   1970       1     0        NaN         0        NaN   \n",
       "...              ...    ...     ...   ...        ...       ...        ...   \n",
       "181686  201712310022   2017      12    31        NaN         0        NaN   \n",
       "181687  201712310029   2017      12    31        NaN         0        NaN   \n",
       "181688  201712310030   2017      12    31        NaN         0        NaN   \n",
       "181689  201712310031   2017      12    31        NaN         0        NaN   \n",
       "181690  201712310032   2017      12    31        NaN         0        NaN   \n",
       "\n",
       "        country         country_txt  region  ... addnotes  \\\n",
       "0            58  Dominican Republic       2  ...      NaN   \n",
       "1           130              Mexico       1  ...      NaN   \n",
       "2           160         Philippines       5  ...      NaN   \n",
       "3            78              Greece       8  ...      NaN   \n",
       "4           101               Japan       4  ...      NaN   \n",
       "...         ...                 ...     ...  ...      ...   \n",
       "181686      182             Somalia      11  ...      NaN   \n",
       "181687      200               Syria      10  ...      NaN   \n",
       "181688      160         Philippines       5  ...      NaN   \n",
       "181689       92               India       6  ...      NaN   \n",
       "181690      160         Philippines       5  ...      NaN   \n",
       "\n",
       "                                                   scite1  \\\n",
       "0                                                     NaN   \n",
       "1                                                     NaN   \n",
       "2                                                     NaN   \n",
       "3                                                     NaN   \n",
       "4                                                     NaN   \n",
       "...                                                   ...   \n",
       "181686  \"Somalia: Al-Shabaab Militants Attack Army Che...   \n",
       "181687  \"Putin's 'victory' in Syria has turned into a ...   \n",
       "181688  \"Maguindanao clashes trap tribe members,\" Phil...   \n",
       "181689  \"Trader escapes grenade attack in Imphal,\" Bus...   \n",
       "181690  \"Security tightened in Cotabato following IED ...   \n",
       "\n",
       "                                                   scite2  \\\n",
       "0                                                     NaN   \n",
       "1                                                     NaN   \n",
       "2                                                     NaN   \n",
       "3                                                     NaN   \n",
       "4                                                     NaN   \n",
       "...                                                   ...   \n",
       "181686  \"Highlights: Somalia Daily Media Highlights 2 ...   \n",
       "181687  \"Two Russian soldiers killed at Hmeymim base i...   \n",
       "181688                                                NaN   \n",
       "181689                                                NaN   \n",
       "181690  \"Security tightened in Cotabato City,\" Manila ...   \n",
       "\n",
       "                                                   scite3  \\\n",
       "0                                                     NaN   \n",
       "1                                                     NaN   \n",
       "2                                                     NaN   \n",
       "3                                                     NaN   \n",
       "4                                                     NaN   \n",
       "...                                                   ...   \n",
       "181686  \"Highlights: Somalia Daily Media Highlights 1 ...   \n",
       "181687  \"Two Russian servicemen killed in Syria mortar...   \n",
       "181688                                                NaN   \n",
       "181689                                                NaN   \n",
       "181690                                                NaN   \n",
       "\n",
       "                        dbsource  INT_LOG  INT_IDEO INT_MISC INT_ANY  related  \n",
       "0                           PGIS        0         0        0       0      NaN  \n",
       "1                           PGIS        0         1        1       1      NaN  \n",
       "2                           PGIS       -9        -9        1       1      NaN  \n",
       "3                           PGIS       -9        -9        1       1      NaN  \n",
       "4                           PGIS       -9        -9        1       1      NaN  \n",
       "...                          ...      ...       ...      ...     ...      ...  \n",
       "181686  START Primary Collection        0         0        0       0      NaN  \n",
       "181687  START Primary Collection       -9        -9        1       1      NaN  \n",
       "181688  START Primary Collection        0         0        0       0      NaN  \n",
       "181689  START Primary Collection       -9        -9        0      -9      NaN  \n",
       "181690  START Primary Collection       -9        -9        0      -9      NaN  \n",
       "\n",
       "[181691 rows x 135 columns]>"
      ]
     },
     "execution_count": 9,
     "metadata": {},
     "output_type": "execute_result"
    }
   ],
   "source": [
    "td.info"
   ]
  },
  {
   "cell_type": "code",
   "execution_count": 10,
   "id": "f678bfac",
   "metadata": {
    "scrolled": true
   },
   "outputs": [
    {
     "data": {
      "text/plain": [
       "eventid       181691\n",
       "iyear             47\n",
       "imonth            13\n",
       "iday              32\n",
       "approxdate      2244\n",
       "               ...  \n",
       "INT_LOG            3\n",
       "INT_IDEO           3\n",
       "INT_MISC           3\n",
       "INT_ANY            3\n",
       "related        14306\n",
       "Length: 135, dtype: int64"
      ]
     },
     "execution_count": 10,
     "metadata": {},
     "output_type": "execute_result"
    }
   ],
   "source": [
    "td.nunique() #check unique value"
   ]
  },
  {
   "cell_type": "markdown",
   "id": "fd3478a1",
   "metadata": {},
   "source": [
    "## Data  Analyze & Visualize  Worldwise"
   ]
  },
  {
   "cell_type": "code",
   "execution_count": 11,
   "id": "2c604622",
   "metadata": {
    "scrolled": true
   },
   "outputs": [
    {
     "name": "stdout",
     "output_type": "stream",
     "text": [
      "Highest Terrorist Attacks Country Is: Iraq\n"
     ]
    }
   ],
   "source": [
    "print('Highest Terrorist Attacks Country Is:',td['country_txt'].value_counts().index[0])"
   ]
  },
  {
   "cell_type": "code",
   "execution_count": 12,
   "id": "ed9baadc",
   "metadata": {},
   "outputs": [
    {
     "name": "stdout",
     "output_type": "stream",
     "text": [
      "Highest Terrorist Attacks Regions is: Middle East & North Africa\n"
     ]
    }
   ],
   "source": [
    "print('Highest Terrorist Attacks Regions is:',td['region_txt'].value_counts().index[0])"
   ]
  },
  {
   "cell_type": "code",
   "execution_count": 13,
   "id": "55862278",
   "metadata": {},
   "outputs": [
    {
     "name": "stdout",
     "output_type": "stream",
     "text": [
      "Maxm people killed in teror attack is: 1570.0\n"
     ]
    }
   ],
   "source": [
    "print('Maxm people killed in teror attack is:',td['nkill'].max())\n"
   ]
  },
  {
   "cell_type": "code",
   "execution_count": 14,
   "id": "7e327931",
   "metadata": {},
   "outputs": [
    {
     "name": "stdout",
     "output_type": "stream",
     "text": [
      "Most attacks year: 2014\n"
     ]
    }
   ],
   "source": [
    "print(\"Most attacks year:\",td['iyear'].value_counts().idxmax())"
   ]
  },
  {
   "cell_type": "code",
   "execution_count": 15,
   "id": "9e615b91",
   "metadata": {},
   "outputs": [
    {
     "name": "stdout",
     "output_type": "stream",
     "text": [
      "Most attacks month is: 5\n"
     ]
    }
   ],
   "source": [
    "print(\"Most attacks month is:\",td['imonth'].value_counts().idxmax())"
   ]
  },
  {
   "cell_type": "code",
   "execution_count": 16,
   "id": "98c72c67",
   "metadata": {},
   "outputs": [
    {
     "name": "stdout",
     "output_type": "stream",
     "text": [
      "Most attack modes : Bombing/Explosion\n"
     ]
    }
   ],
   "source": [
    "print(\"Most attack modes :\",td['attacktype1_txt'].value_counts().idxmax())"
   ]
  },
  {
   "cell_type": "code",
   "execution_count": 17,
   "id": "587735f9",
   "metadata": {},
   "outputs": [
    {
     "name": "stdout",
     "output_type": "stream",
     "text": [
      "Top 10 suffering Countries are : \n"
     ]
    },
    {
     "data": {
      "text/plain": [
       "Iraq              24636\n",
       "Pakistan          14368\n",
       "Afghanistan       12731\n",
       "India             11960\n",
       "Colombia           8306\n",
       "Philippines        6908\n",
       "Peru               6096\n",
       "El Salvador        5320\n",
       "United Kingdom     5235\n",
       "Turkey             4292\n",
       "Name: country_txt, dtype: int64"
      ]
     },
     "execution_count": 17,
     "metadata": {},
     "output_type": "execute_result"
    }
   ],
   "source": [
    "print(\"Top 10 suffering Countries are : \")\n",
    "td['country_txt'].value_counts().head(10)"
   ]
  },
  {
   "cell_type": "code",
   "execution_count": 18,
   "id": "e25f99a7",
   "metadata": {},
   "outputs": [
    {
     "data": {
      "image/png": "[encoded data removed]",
      "text/plain": [
       "<Figure size 720x360 with 1 Axes>"
      ]
     },
     "metadata": {
      "needs_background": "light"
     },
     "output_type": "display_data"
    }
   ],
   "source": [
    "plt.figure(figsize=(10,5))\n",
    "x = td['country_txt'].value_counts().values[:10]\n",
    "y = td['country_txt'].value_counts().index[:10]\n",
    "sns.barplot(y,x)\n",
    "plt.xticks(rotation=90)\n",
    "plt.xlabel('Country Names',fontsize=15)\n",
    "plt.ylabel('Cases',Fontsize=15)\n",
    "plt.title('Top 10 Country list Basis Of attack wise',fontsize=25)\n",
    "plt.show()"
   ]
  },
  {
   "cell_type": "code",
   "execution_count": 19,
   "id": "ffc65900",
   "metadata": {},
   "outputs": [
    {
     "name": "stdout",
     "output_type": "stream",
     "text": [
      "Top 10 Suffering Cities are :\n"
     ]
    },
    {
     "data": {
      "text/plain": [
       "Middle East & North Africa     50474\n",
       "South Asia                     44974\n",
       "South America                  18978\n",
       "Sub-Saharan Africa             17550\n",
       "Western Europe                 16639\n",
       "Southeast Asia                 12485\n",
       "Central America & Caribbean    10344\n",
       "Eastern Europe                  5144\n",
       "North America                   3456\n",
       "East Asia                        802\n",
       "Name: region_txt, dtype: int64"
      ]
     },
     "execution_count": 19,
     "metadata": {},
     "output_type": "execute_result"
    }
   ],
   "source": [
    "print(\"Top 10 Suffering Cities are :\")\n",
    "td['region_txt'].value_counts().head(10)"
   ]
  },
  {
   "cell_type": "code",
   "execution_count": 20,
   "id": "a350730d",
   "metadata": {},
   "outputs": [
    {
     "data": {
      "image/png": "[encoded data removed]",
      "text/plain": [
       "<Figure size 720x360 with 1 Axes>"
      ]
     },
     "metadata": {
      "needs_background": "light"
     },
     "output_type": "display_data"
    }
   ],
   "source": [
    "plt.figure(figsize=(10,5))\n",
    "x = td['region_txt'].value_counts().values[:10]\n",
    "y = td['region_txt'].value_counts().index[:10]\n",
    "sns.barplot(y,x)\n",
    "plt.xticks(rotation=90)\n",
    "plt.title('Top 10 Region list Basis Of attack wise',fontsize=25)\n",
    "plt.show()"
   ]
  },
  {
   "cell_type": "code",
   "execution_count": 21,
   "id": "932c7554",
   "metadata": {},
   "outputs": [
    {
     "name": "stdout",
     "output_type": "stream",
     "text": [
      "Top 10 Suffering Cities are :\n"
     ]
    },
    {
     "data": {
      "text/plain": [
       "Unknown         9775\n",
       "Baghdad         7589\n",
       "Karachi         2652\n",
       "Lima            2359\n",
       "Mosul           2265\n",
       "Belfast         2171\n",
       "Santiago        1621\n",
       "Mogadishu       1581\n",
       "San Salvador    1558\n",
       "Istanbul        1048\n",
       "Name: city, dtype: int64"
      ]
     },
     "execution_count": 21,
     "metadata": {},
     "output_type": "execute_result"
    }
   ],
   "source": [
    "print(\"Top 10 Suffering Cities are :\")\n",
    "td['city'].value_counts().head(10)"
   ]
  },
  {
   "cell_type": "code",
   "execution_count": 22,
   "id": "e9e66f6a",
   "metadata": {
    "scrolled": true
   },
   "outputs": [
    {
     "data": {
      "image/png": "[encoded data removed]",
      "text/plain": [
       "<Figure size 720x360 with 1 Axes>"
      ]
     },
     "metadata": {
      "needs_background": "light"
     },
     "output_type": "display_data"
    }
   ],
   "source": [
    "plt.figure(figsize=(10,5))\n",
    "x = td['city'].value_counts().values[:10]\n",
    "y = td['city'].value_counts().index[:10]\n",
    "sns.barplot(y,x)\n",
    "plt.xticks(rotation=90)\n",
    "plt.title('Top 10 Cities list Basis Of attack wise',fontsize=25)\n",
    "plt.show()"
   ]
  },
  {
   "cell_type": "code",
   "execution_count": 23,
   "id": "5cd145e5",
   "metadata": {
    "scrolled": true
   },
   "outputs": [
    {
     "name": "stdout",
     "output_type": "stream",
     "text": [
      "Terrorist top 10 Attack types are :\n"
     ]
    },
    {
     "data": {
      "text/plain": [
       "Bombing/Explosion                      88255\n",
       "Armed Assault                          42669\n",
       "Assassination                          19312\n",
       "Hostage Taking (Kidnapping)            11158\n",
       "Facility/Infrastructure Attack         10356\n",
       "Unknown                                 7276\n",
       "Unarmed Assault                         1015\n",
       "Hostage Taking (Barricade Incident)      991\n",
       "Hijacking                                659\n",
       "Name: attacktype1_txt, dtype: int64"
      ]
     },
     "execution_count": 23,
     "metadata": {},
     "output_type": "execute_result"
    }
   ],
   "source": [
    "print(\"Terrorist top 10 Attack types are :\")\n",
    "td['attacktype1_txt'].value_counts().head(10)"
   ]
  },
  {
   "cell_type": "code",
   "execution_count": 24,
   "id": "9108baa7",
   "metadata": {},
   "outputs": [
    {
     "data": {
      "image/png": "[encoded data removed]",
      "text/plain": [
       "<Figure size 720x360 with 1 Axes>"
      ]
     },
     "metadata": {
      "needs_background": "light"
     },
     "output_type": "display_data"
    }
   ],
   "source": [
    "plt.figure(figsize=(10,5))\n",
    "x = td['attacktype1_txt'].value_counts().values[:10]\n",
    "y = td['attacktype1_txt'].value_counts().index[:10]\n",
    "sns.barplot(y,x)\n",
    "plt.xticks(rotation=90)\n",
    "plt.title('Terrorist top 10 Attack types are',fontsize=25)\n",
    "plt.show()"
   ]
  },
  {
   "cell_type": "code",
   "execution_count": 25,
   "id": "880ad578",
   "metadata": {},
   "outputs": [
    {
     "name": "stdout",
     "output_type": "stream",
     "text": [
      "Top 10 terrorist groups are :\n"
     ]
    },
    {
     "data": {
      "text/plain": [
       "Unknown                                             82782\n",
       "Taliban                                              7478\n",
       "Islamic State of Iraq and the Levant (ISIL)          5613\n",
       "Shining Path (SL)                                    4555\n",
       "Farabundo Marti National Liberation Front (FMLN)     3351\n",
       "Al-Shabaab                                           3288\n",
       "New People's Army (NPA)                              2772\n",
       "Irish Republican Army (IRA)                          2671\n",
       "Revolutionary Armed Forces of Colombia (FARC)        2487\n",
       "Boko Haram                                           2418\n",
       "Name: gname, dtype: int64"
      ]
     },
     "execution_count": 25,
     "metadata": {},
     "output_type": "execute_result"
    }
   ],
   "source": [
    "print(\"Top 10 terrorist groups are :\")\n",
    "td['gname'].value_counts().head(10)"
   ]
  },
  {
   "cell_type": "code",
   "execution_count": 26,
   "id": "dbb70e56",
   "metadata": {},
   "outputs": [
    {
     "data": {
      "image/png": "[encoded data removed]",
      "text/plain": [
       "<Figure size 720x360 with 1 Axes>"
      ]
     },
     "metadata": {
      "needs_background": "light"
     },
     "output_type": "display_data"
    }
   ],
   "source": [
    "plt.figure(figsize=(10,5))\n",
    "x = td['gname'].value_counts().values[:10]\n",
    "y = td['gname'].value_counts().index[:10]\n",
    "sns.barplot(y,x)\n",
    "plt.xticks(rotation=90)\n",
    "plt.title('Top 10 terrorist groups are ',fontsize=25)\n",
    "plt.show()"
   ]
  },
  {
   "cell_type": "code",
   "execution_count": 27,
   "id": "41e134af",
   "metadata": {},
   "outputs": [
    {
     "data": {
      "image/png": "[encoded data removed]",
      "text/plain": [
       "<Figure size 1440x576 with 1 Axes>"
      ]
     },
     "metadata": {
      "needs_background": "light"
     },
     "output_type": "display_data"
    }
   ],
   "source": [
    "plt.figure(figsize=(20,8))\n",
    "sns.barplot(td['iyear'],td['nkill'],color='blue')\n",
    "plt.xticks(rotation=90)\n",
    "plt.title('King Graph over the year in the world',fontsize=25)\n",
    "plt.show()"
   ]
  },
  {
   "cell_type": "markdown",
   "id": "79e18e9b",
   "metadata": {},
   "source": [
    "# India Terrorist Attack Analysis"
   ]
  },
  {
   "cell_type": "code",
   "execution_count": 28,
   "id": "c6c6f2a3",
   "metadata": {},
   "outputs": [],
   "source": [
    "ind=td.loc[td['country_txt'] == \"India\"]"
   ]
  },
  {
   "cell_type": "code",
   "execution_count": 29,
   "id": "9c989efd",
   "metadata": {},
   "outputs": [
    {
     "data": {
      "text/html": [
       "<div>\n",
       "<style scoped>\n",
       "    .dataframe tbody tr th:only-of-type {\n",
       "        vertical-align: middle;\n",
       "    }\n",
       "\n",
       "    .dataframe tbody tr th {\n",
       "        vertical-align: top;\n",
       "    }\n",
       "\n",
       "    .dataframe thead th {\n",
       "        text-align: right;\n",
       "    }\n",
       "</style>\n",
       "<table border=\"1\" class=\"dataframe\">\n",
       "  <thead>\n",
       "    <tr style=\"text-align: right;\">\n",
       "      <th></th>\n",
       "      <th>eventid</th>\n",
       "      <th>iyear</th>\n",
       "      <th>imonth</th>\n",
       "      <th>iday</th>\n",
       "      <th>approxdate</th>\n",
       "      <th>extended</th>\n",
       "      <th>resolution</th>\n",
       "      <th>country</th>\n",
       "      <th>country_txt</th>\n",
       "      <th>region</th>\n",
       "      <th>...</th>\n",
       "      <th>addnotes</th>\n",
       "      <th>scite1</th>\n",
       "      <th>scite2</th>\n",
       "      <th>scite3</th>\n",
       "      <th>dbsource</th>\n",
       "      <th>INT_LOG</th>\n",
       "      <th>INT_IDEO</th>\n",
       "      <th>INT_MISC</th>\n",
       "      <th>INT_ANY</th>\n",
       "      <th>related</th>\n",
       "    </tr>\n",
       "  </thead>\n",
       "  <tbody>\n",
       "    <tr>\n",
       "      <th>1186</th>\n",
       "      <td>197202220004</td>\n",
       "      <td>1972</td>\n",
       "      <td>2</td>\n",
       "      <td>22</td>\n",
       "      <td>NaN</td>\n",
       "      <td>0</td>\n",
       "      <td>NaN</td>\n",
       "      <td>92</td>\n",
       "      <td>India</td>\n",
       "      <td>6</td>\n",
       "      <td>...</td>\n",
       "      <td>NaN</td>\n",
       "      <td>NaN</td>\n",
       "      <td>NaN</td>\n",
       "      <td>NaN</td>\n",
       "      <td>Hijacking DB</td>\n",
       "      <td>1</td>\n",
       "      <td>1</td>\n",
       "      <td>1</td>\n",
       "      <td>1</td>\n",
       "      <td>NaN</td>\n",
       "    </tr>\n",
       "    <tr>\n",
       "      <th>2764</th>\n",
       "      <td>197501190004</td>\n",
       "      <td>1975</td>\n",
       "      <td>1</td>\n",
       "      <td>2</td>\n",
       "      <td>NaN</td>\n",
       "      <td>0</td>\n",
       "      <td>NaN</td>\n",
       "      <td>92</td>\n",
       "      <td>India</td>\n",
       "      <td>6</td>\n",
       "      <td>...</td>\n",
       "      <td>The case is very unclear and there are many ru...</td>\n",
       "      <td>\"Leaders of India Irate at Killing: Death of A...</td>\n",
       "      <td>Dhananjay Mahapatra, \"SC: Why has LN Mishra mu...</td>\n",
       "      <td>NaN</td>\n",
       "      <td>UMD Encyclopedia of World Terrorism 2012</td>\n",
       "      <td>0</td>\n",
       "      <td>0</td>\n",
       "      <td>0</td>\n",
       "      <td>0</td>\n",
       "      <td>NaN</td>\n",
       "    </tr>\n",
       "    <tr>\n",
       "      <th>3857</th>\n",
       "      <td>197605260001</td>\n",
       "      <td>1976</td>\n",
       "      <td>5</td>\n",
       "      <td>26</td>\n",
       "      <td>NaN</td>\n",
       "      <td>0</td>\n",
       "      <td>NaN</td>\n",
       "      <td>92</td>\n",
       "      <td>India</td>\n",
       "      <td>6</td>\n",
       "      <td>...</td>\n",
       "      <td>NaN</td>\n",
       "      <td>NaN</td>\n",
       "      <td>NaN</td>\n",
       "      <td>NaN</td>\n",
       "      <td>PGIS</td>\n",
       "      <td>-9</td>\n",
       "      <td>-9</td>\n",
       "      <td>0</td>\n",
       "      <td>-9</td>\n",
       "      <td>NaN</td>\n",
       "    </tr>\n",
       "    <tr>\n",
       "      <th>5327</th>\n",
       "      <td>197709280004</td>\n",
       "      <td>1977</td>\n",
       "      <td>9</td>\n",
       "      <td>28</td>\n",
       "      <td>NaN</td>\n",
       "      <td>0</td>\n",
       "      <td>NaN</td>\n",
       "      <td>92</td>\n",
       "      <td>India</td>\n",
       "      <td>6</td>\n",
       "      <td>...</td>\n",
       "      <td>NaN</td>\n",
       "      <td>NaN</td>\n",
       "      <td>NaN</td>\n",
       "      <td>NaN</td>\n",
       "      <td>Hijacking DB</td>\n",
       "      <td>1</td>\n",
       "      <td>1</td>\n",
       "      <td>1</td>\n",
       "      <td>1</td>\n",
       "      <td>NaN</td>\n",
       "    </tr>\n",
       "    <tr>\n",
       "      <th>7337</th>\n",
       "      <td>197901130004</td>\n",
       "      <td>1979</td>\n",
       "      <td>1</td>\n",
       "      <td>13</td>\n",
       "      <td>NaN</td>\n",
       "      <td>0</td>\n",
       "      <td>NaN</td>\n",
       "      <td>92</td>\n",
       "      <td>India</td>\n",
       "      <td>6</td>\n",
       "      <td>...</td>\n",
       "      <td>NaN</td>\n",
       "      <td>NaN</td>\n",
       "      <td>NaN</td>\n",
       "      <td>NaN</td>\n",
       "      <td>PGIS</td>\n",
       "      <td>0</td>\n",
       "      <td>0</td>\n",
       "      <td>0</td>\n",
       "      <td>0</td>\n",
       "      <td>NaN</td>\n",
       "    </tr>\n",
       "  </tbody>\n",
       "</table>\n",
       "<p>5 rows × 135 columns</p>\n",
       "</div>"
      ],
      "text/plain": [
       "           eventid  iyear  imonth  iday approxdate  extended resolution  \\\n",
       "1186  197202220004   1972       2    22        NaN         0        NaN   \n",
       "2764  197501190004   1975       1     2        NaN         0        NaN   \n",
       "3857  197605260001   1976       5    26        NaN         0        NaN   \n",
       "5327  197709280004   1977       9    28        NaN         0        NaN   \n",
       "7337  197901130004   1979       1    13        NaN         0        NaN   \n",
       "\n",
       "      country country_txt  region  ...  \\\n",
       "1186       92       India       6  ...   \n",
       "2764       92       India       6  ...   \n",
       "3857       92       India       6  ...   \n",
       "5327       92       India       6  ...   \n",
       "7337       92       India       6  ...   \n",
       "\n",
       "                                               addnotes  \\\n",
       "1186                                                NaN   \n",
       "2764  The case is very unclear and there are many ru...   \n",
       "3857                                                NaN   \n",
       "5327                                                NaN   \n",
       "7337                                                NaN   \n",
       "\n",
       "                                                 scite1  \\\n",
       "1186                                                NaN   \n",
       "2764  \"Leaders of India Irate at Killing: Death of A...   \n",
       "3857                                                NaN   \n",
       "5327                                                NaN   \n",
       "7337                                                NaN   \n",
       "\n",
       "                                                 scite2  scite3  \\\n",
       "1186                                                NaN     NaN   \n",
       "2764  Dhananjay Mahapatra, \"SC: Why has LN Mishra mu...     NaN   \n",
       "3857                                                NaN     NaN   \n",
       "5327                                                NaN     NaN   \n",
       "7337                                                NaN     NaN   \n",
       "\n",
       "                                      dbsource  INT_LOG  INT_IDEO INT_MISC  \\\n",
       "1186                              Hijacking DB        1         1        1   \n",
       "2764  UMD Encyclopedia of World Terrorism 2012        0         0        0   \n",
       "3857                                      PGIS       -9        -9        0   \n",
       "5327                              Hijacking DB        1         1        1   \n",
       "7337                                      PGIS        0         0        0   \n",
       "\n",
       "     INT_ANY  related  \n",
       "1186       1      NaN  \n",
       "2764       0      NaN  \n",
       "3857      -9      NaN  \n",
       "5327       1      NaN  \n",
       "7337       0      NaN  \n",
       "\n",
       "[5 rows x 135 columns]"
      ]
     },
     "execution_count": 29,
     "metadata": {},
     "output_type": "execute_result"
    }
   ],
   "source": [
    "ind.head() # first five rows"
   ]
  },
  {
   "cell_type": "code",
   "execution_count": 30,
   "id": "13816e23",
   "metadata": {},
   "outputs": [
    {
     "data": {
      "text/html": [
       "<div>\n",
       "<style scoped>\n",
       "    .dataframe tbody tr th:only-of-type {\n",
       "        vertical-align: middle;\n",
       "    }\n",
       "\n",
       "    .dataframe tbody tr th {\n",
       "        vertical-align: top;\n",
       "    }\n",
       "\n",
       "    .dataframe thead th {\n",
       "        text-align: right;\n",
       "    }\n",
       "</style>\n",
       "<table border=\"1\" class=\"dataframe\">\n",
       "  <thead>\n",
       "    <tr style=\"text-align: right;\">\n",
       "      <th></th>\n",
       "      <th>eventid</th>\n",
       "      <th>iyear</th>\n",
       "      <th>imonth</th>\n",
       "      <th>iday</th>\n",
       "      <th>extended</th>\n",
       "      <th>country</th>\n",
       "      <th>region</th>\n",
       "      <th>latitude</th>\n",
       "      <th>longitude</th>\n",
       "      <th>specificity</th>\n",
       "      <th>...</th>\n",
       "      <th>ransomamt</th>\n",
       "      <th>ransomamtus</th>\n",
       "      <th>ransompaid</th>\n",
       "      <th>ransompaidus</th>\n",
       "      <th>hostkidoutcome</th>\n",
       "      <th>nreleased</th>\n",
       "      <th>INT_LOG</th>\n",
       "      <th>INT_IDEO</th>\n",
       "      <th>INT_MISC</th>\n",
       "      <th>INT_ANY</th>\n",
       "    </tr>\n",
       "  </thead>\n",
       "  <tbody>\n",
       "    <tr>\n",
       "      <th>count</th>\n",
       "      <td>1.196000e+04</td>\n",
       "      <td>11960.000000</td>\n",
       "      <td>11960.000000</td>\n",
       "      <td>11960.000000</td>\n",
       "      <td>11960.000000</td>\n",
       "      <td>11960.0</td>\n",
       "      <td>11960.0</td>\n",
       "      <td>11801.000000</td>\n",
       "      <td>11801.000000</td>\n",
       "      <td>11958.000000</td>\n",
       "      <td>...</td>\n",
       "      <td>1.130000e+02</td>\n",
       "      <td>98.000000</td>\n",
       "      <td>100.000000</td>\n",
       "      <td>97.000000</td>\n",
       "      <td>1287.000000</td>\n",
       "      <td>1265.000000</td>\n",
       "      <td>11960.000000</td>\n",
       "      <td>11960.000000</td>\n",
       "      <td>11960.000000</td>\n",
       "      <td>11960.000000</td>\n",
       "    </tr>\n",
       "    <tr>\n",
       "      <th>mean</th>\n",
       "      <td>2.006314e+11</td>\n",
       "      <td>2006.248411</td>\n",
       "      <td>6.439047</td>\n",
       "      <td>15.624415</td>\n",
       "      <td>0.065385</td>\n",
       "      <td>92.0</td>\n",
       "      <td>6.0</td>\n",
       "      <td>25.947957</td>\n",
       "      <td>82.788312</td>\n",
       "      <td>1.576936</td>\n",
       "      <td>...</td>\n",
       "      <td>5.546087e+05</td>\n",
       "      <td>9.149490</td>\n",
       "      <td>2832.173700</td>\n",
       "      <td>-2.041237</td>\n",
       "      <td>4.355089</td>\n",
       "      <td>-15.058498</td>\n",
       "      <td>-4.732525</td>\n",
       "      <td>-4.713629</td>\n",
       "      <td>-0.008612</td>\n",
       "      <td>-4.671488</td>\n",
       "    </tr>\n",
       "    <tr>\n",
       "      <th>std</th>\n",
       "      <td>1.009785e+09</td>\n",
       "      <td>10.096520</td>\n",
       "      <td>3.323835</td>\n",
       "      <td>8.778965</td>\n",
       "      <td>0.247214</td>\n",
       "      <td>0.0</td>\n",
       "      <td>0.0</td>\n",
       "      <td>5.674857</td>\n",
       "      <td>7.039908</td>\n",
       "      <td>0.991590</td>\n",
       "      <td>...</td>\n",
       "      <td>2.728587e+06</td>\n",
       "      <td>122.095089</td>\n",
       "      <td>13630.578811</td>\n",
       "      <td>14.141338</td>\n",
       "      <td>1.740275</td>\n",
       "      <td>57.959950</td>\n",
       "      <td>4.543307</td>\n",
       "      <td>4.573216</td>\n",
       "      <td>0.414645</td>\n",
       "      <td>4.579922</td>\n",
       "    </tr>\n",
       "    <tr>\n",
       "      <th>min</th>\n",
       "      <td>1.972022e+11</td>\n",
       "      <td>1972.000000</td>\n",
       "      <td>1.000000</td>\n",
       "      <td>0.000000</td>\n",
       "      <td>0.000000</td>\n",
       "      <td>92.0</td>\n",
       "      <td>6.0</td>\n",
       "      <td>8.169375</td>\n",
       "      <td>68.775724</td>\n",
       "      <td>1.000000</td>\n",
       "      <td>...</td>\n",
       "      <td>-9.900000e+01</td>\n",
       "      <td>-99.000000</td>\n",
       "      <td>-99.000000</td>\n",
       "      <td>-99.000000</td>\n",
       "      <td>2.000000</td>\n",
       "      <td>-99.000000</td>\n",
       "      <td>-9.000000</td>\n",
       "      <td>-9.000000</td>\n",
       "      <td>-9.000000</td>\n",
       "      <td>-9.000000</td>\n",
       "    </tr>\n",
       "    <tr>\n",
       "      <th>25%</th>\n",
       "      <td>1.999081e+11</td>\n",
       "      <td>1999.000000</td>\n",
       "      <td>4.000000</td>\n",
       "      <td>8.000000</td>\n",
       "      <td>0.000000</td>\n",
       "      <td>92.0</td>\n",
       "      <td>6.0</td>\n",
       "      <td>22.585272</td>\n",
       "      <td>75.341218</td>\n",
       "      <td>1.000000</td>\n",
       "      <td>...</td>\n",
       "      <td>-9.900000e+01</td>\n",
       "      <td>0.000000</td>\n",
       "      <td>-99.000000</td>\n",
       "      <td>0.000000</td>\n",
       "      <td>3.000000</td>\n",
       "      <td>0.000000</td>\n",
       "      <td>-9.000000</td>\n",
       "      <td>-9.000000</td>\n",
       "      <td>0.000000</td>\n",
       "      <td>-9.000000</td>\n",
       "    </tr>\n",
       "    <tr>\n",
       "      <th>50%</th>\n",
       "      <td>2.010072e+11</td>\n",
       "      <td>2010.000000</td>\n",
       "      <td>6.000000</td>\n",
       "      <td>15.000000</td>\n",
       "      <td>0.000000</td>\n",
       "      <td>92.0</td>\n",
       "      <td>6.0</td>\n",
       "      <td>25.272700</td>\n",
       "      <td>81.866144</td>\n",
       "      <td>1.000000</td>\n",
       "      <td>...</td>\n",
       "      <td>1.566847e+04</td>\n",
       "      <td>0.000000</td>\n",
       "      <td>-99.000000</td>\n",
       "      <td>0.000000</td>\n",
       "      <td>4.000000</td>\n",
       "      <td>0.000000</td>\n",
       "      <td>-9.000000</td>\n",
       "      <td>-9.000000</td>\n",
       "      <td>0.000000</td>\n",
       "      <td>-9.000000</td>\n",
       "    </tr>\n",
       "    <tr>\n",
       "      <th>75%</th>\n",
       "      <td>2.014112e+11</td>\n",
       "      <td>2014.000000</td>\n",
       "      <td>9.000000</td>\n",
       "      <td>23.000000</td>\n",
       "      <td>0.000000</td>\n",
       "      <td>92.0</td>\n",
       "      <td>6.0</td>\n",
       "      <td>31.147131</td>\n",
       "      <td>88.352341</td>\n",
       "      <td>2.000000</td>\n",
       "      <td>...</td>\n",
       "      <td>7.883770e+04</td>\n",
       "      <td>0.000000</td>\n",
       "      <td>0.000000</td>\n",
       "      <td>0.000000</td>\n",
       "      <td>6.000000</td>\n",
       "      <td>1.000000</td>\n",
       "      <td>0.000000</td>\n",
       "      <td>0.000000</td>\n",
       "      <td>0.000000</td>\n",
       "      <td>0.000000</td>\n",
       "    </tr>\n",
       "    <tr>\n",
       "      <th>max</th>\n",
       "      <td>2.017123e+11</td>\n",
       "      <td>2017.000000</td>\n",
       "      <td>12.000000</td>\n",
       "      <td>31.000000</td>\n",
       "      <td>1.000000</td>\n",
       "      <td>92.0</td>\n",
       "      <td>6.0</td>\n",
       "      <td>34.655639</td>\n",
       "      <td>96.644737</td>\n",
       "      <td>5.000000</td>\n",
       "      <td>...</td>\n",
       "      <td>2.500000e+07</td>\n",
       "      <td>1193.650000</td>\n",
       "      <td>79555.000000</td>\n",
       "      <td>0.000000</td>\n",
       "      <td>7.000000</td>\n",
       "      <td>1201.000000</td>\n",
       "      <td>1.000000</td>\n",
       "      <td>1.000000</td>\n",
       "      <td>1.000000</td>\n",
       "      <td>1.000000</td>\n",
       "    </tr>\n",
       "  </tbody>\n",
       "</table>\n",
       "<p>8 rows × 77 columns</p>\n",
       "</div>"
      ],
      "text/plain": [
       "            eventid         iyear        imonth          iday      extended  \\\n",
       "count  1.196000e+04  11960.000000  11960.000000  11960.000000  11960.000000   \n",
       "mean   2.006314e+11   2006.248411      6.439047     15.624415      0.065385   \n",
       "std    1.009785e+09     10.096520      3.323835      8.778965      0.247214   \n",
       "min    1.972022e+11   1972.000000      1.000000      0.000000      0.000000   \n",
       "25%    1.999081e+11   1999.000000      4.000000      8.000000      0.000000   \n",
       "50%    2.010072e+11   2010.000000      6.000000     15.000000      0.000000   \n",
       "75%    2.014112e+11   2014.000000      9.000000     23.000000      0.000000   \n",
       "max    2.017123e+11   2017.000000     12.000000     31.000000      1.000000   \n",
       "\n",
       "       country   region      latitude     longitude   specificity  ...  \\\n",
       "count  11960.0  11960.0  11801.000000  11801.000000  11958.000000  ...   \n",
       "mean      92.0      6.0     25.947957     82.788312      1.576936  ...   \n",
       "std        0.0      0.0      5.674857      7.039908      0.991590  ...   \n",
       "min       92.0      6.0      8.169375     68.775724      1.000000  ...   \n",
       "25%       92.0      6.0     22.585272     75.341218      1.000000  ...   \n",
       "50%       92.0      6.0     25.272700     81.866144      1.000000  ...   \n",
       "75%       92.0      6.0     31.147131     88.352341      2.000000  ...   \n",
       "max       92.0      6.0     34.655639     96.644737      5.000000  ...   \n",
       "\n",
       "          ransomamt  ransomamtus    ransompaid  ransompaidus  hostkidoutcome  \\\n",
       "count  1.130000e+02    98.000000    100.000000     97.000000     1287.000000   \n",
       "mean   5.546087e+05     9.149490   2832.173700     -2.041237        4.355089   \n",
       "std    2.728587e+06   122.095089  13630.578811     14.141338        1.740275   \n",
       "min   -9.900000e+01   -99.000000    -99.000000    -99.000000        2.000000   \n",
       "25%   -9.900000e+01     0.000000    -99.000000      0.000000        3.000000   \n",
       "50%    1.566847e+04     0.000000    -99.000000      0.000000        4.000000   \n",
       "75%    7.883770e+04     0.000000      0.000000      0.000000        6.000000   \n",
       "max    2.500000e+07  1193.650000  79555.000000      0.000000        7.000000   \n",
       "\n",
       "         nreleased       INT_LOG      INT_IDEO      INT_MISC       INT_ANY  \n",
       "count  1265.000000  11960.000000  11960.000000  11960.000000  11960.000000  \n",
       "mean    -15.058498     -4.732525     -4.713629     -0.008612     -4.671488  \n",
       "std      57.959950      4.543307      4.573216      0.414645      4.579922  \n",
       "min     -99.000000     -9.000000     -9.000000     -9.000000     -9.000000  \n",
       "25%       0.000000     -9.000000     -9.000000      0.000000     -9.000000  \n",
       "50%       0.000000     -9.000000     -9.000000      0.000000     -9.000000  \n",
       "75%       1.000000      0.000000      0.000000      0.000000      0.000000  \n",
       "max    1201.000000      1.000000      1.000000      1.000000      1.000000  \n",
       "\n",
       "[8 rows x 77 columns]"
      ]
     },
     "execution_count": 30,
     "metadata": {},
     "output_type": "execute_result"
    }
   ],
   "source": [
    "ind.describe() #view statistical details"
   ]
  },
  {
   "cell_type": "code",
   "execution_count": 31,
   "id": "9162ac97",
   "metadata": {},
   "outputs": [
    {
     "data": {
      "text/plain": [
       "<bound method DataFrame.info of              eventid  iyear  imonth  iday approxdate  extended resolution  \\\n",
       "1186    197202220004   1972       2    22        NaN         0        NaN   \n",
       "2764    197501190004   1975       1     2        NaN         0        NaN   \n",
       "3857    197605260001   1976       5    26        NaN         0        NaN   \n",
       "5327    197709280004   1977       9    28        NaN         0        NaN   \n",
       "7337    197901130004   1979       1    13        NaN         0        NaN   \n",
       "...              ...    ...     ...   ...        ...       ...        ...   \n",
       "181663  201712300021   2017      12    30        NaN         0        NaN   \n",
       "181665  201712300023   2017      12    30        NaN         0        NaN   \n",
       "181672  201712310005   2017      12    31        NaN         0        NaN   \n",
       "181684  201712310019   2017      12    31        NaN         0        NaN   \n",
       "181689  201712310031   2017      12    31        NaN         0        NaN   \n",
       "\n",
       "        country country_txt  region  ...  \\\n",
       "1186         92       India       6  ...   \n",
       "2764         92       India       6  ...   \n",
       "3857         92       India       6  ...   \n",
       "5327         92       India       6  ...   \n",
       "7337         92       India       6  ...   \n",
       "...         ...         ...     ...  ...   \n",
       "181663       92       India       6  ...   \n",
       "181665       92       India       6  ...   \n",
       "181672       92       India       6  ...   \n",
       "181684       92       India       6  ...   \n",
       "181689       92       India       6  ...   \n",
       "\n",
       "                                                 addnotes  \\\n",
       "1186                                                  NaN   \n",
       "2764    The case is very unclear and there are many ru...   \n",
       "3857                                                  NaN   \n",
       "5327                                                  NaN   \n",
       "7337                                                  NaN   \n",
       "...                                                   ...   \n",
       "181663                                                NaN   \n",
       "181665                                                NaN   \n",
       "181672  The victims included Kuldip Roy, Taufail Ahmed...   \n",
       "181684                                                NaN   \n",
       "181689                                                NaN   \n",
       "\n",
       "                                                   scite1  \\\n",
       "1186                                                  NaN   \n",
       "2764    \"Leaders of India Irate at Killing: Death of A...   \n",
       "3857                                                  NaN   \n",
       "5327                                                  NaN   \n",
       "7337                                                  NaN   \n",
       "...                                                   ...   \n",
       "181663  \"Crude bomb explosion at two places in Kerala'...   \n",
       "181665  \"Maoists set ablaze seven vehicles in Dantewad...   \n",
       "181672  \"Three soldiers killed in Indian-administered ...   \n",
       "181684  \"Abducted PSO rescued within 11 hours,\" The Se...   \n",
       "181689  \"Trader escapes grenade attack in Imphal,\" Bus...   \n",
       "\n",
       "                                                   scite2  \\\n",
       "1186                                                  NaN   \n",
       "2764    Dhananjay Mahapatra, \"SC: Why has LN Mishra mu...   \n",
       "3857                                                  NaN   \n",
       "5327                                                  NaN   \n",
       "7337                                                  NaN   \n",
       "...                                                   ...   \n",
       "181663  \"Bomb hurled at police station in Kannur,\" The...   \n",
       "181665  \"Explosives recovered in Jharkhand, Maoists bu...   \n",
       "181672  \"Fidayeen used armour-piercing bullets in Leth...   \n",
       "181684                                                NaN   \n",
       "181689                                                NaN   \n",
       "\n",
       "                                                   scite3  \\\n",
       "1186                                                  NaN   \n",
       "2764                                                  NaN   \n",
       "3857                                                  NaN   \n",
       "5327                                                  NaN   \n",
       "7337                                                  NaN   \n",
       "...                                                   ...   \n",
       "181663  \"India:Crude bombs hurled at Koothuparamba pol...   \n",
       "181665                                                NaN   \n",
       "181672  \"Kashmir gunbattle ends after 16 hrs, body of ...   \n",
       "181684                                                NaN   \n",
       "181689                                                NaN   \n",
       "\n",
       "                                        dbsource  INT_LOG  INT_IDEO INT_MISC  \\\n",
       "1186                                Hijacking DB        1         1        1   \n",
       "2764    UMD Encyclopedia of World Terrorism 2012        0         0        0   \n",
       "3857                                        PGIS       -9        -9        0   \n",
       "5327                                Hijacking DB        1         1        1   \n",
       "7337                                        PGIS        0         0        0   \n",
       "...                                          ...      ...       ...      ...   \n",
       "181663                  START Primary Collection       -9        -9        0   \n",
       "181665                  START Primary Collection        0         0        0   \n",
       "181672                  START Primary Collection        1         1        0   \n",
       "181684                  START Primary Collection        0         0        0   \n",
       "181689                  START Primary Collection       -9        -9        0   \n",
       "\n",
       "       INT_ANY  related  \n",
       "1186         1      NaN  \n",
       "2764         0      NaN  \n",
       "3857        -9      NaN  \n",
       "5327         1      NaN  \n",
       "7337         0      NaN  \n",
       "...        ...      ...  \n",
       "181663      -9      NaN  \n",
       "181665       0      NaN  \n",
       "181672       1      NaN  \n",
       "181684       0      NaN  \n",
       "181689      -9      NaN  \n",
       "\n",
       "[11960 rows x 135 columns]>"
      ]
     },
     "execution_count": 31,
     "metadata": {},
     "output_type": "execute_result"
    }
   ],
   "source": [
    "ind.info"
   ]
  },
  {
   "cell_type": "markdown",
   "id": "ed3180dd",
   "metadata": {},
   "source": [
    "# Indian Terror attack Data Analyse and visualise"
   ]
  },
  {
   "cell_type": "code",
   "execution_count": 32,
   "id": "69cab123",
   "metadata": {},
   "outputs": [
    {
     "name": "stdout",
     "output_type": "stream",
     "text": [
      "Top 10  Indian  Terror attack Suffering Cities are :\n"
     ]
    },
    {
     "data": {
      "text/plain": [
       "Srinagar     658\n",
       "Unknown      624\n",
       "Imphal       426\n",
       "New Delhi    157\n",
       "Amritsar     138\n",
       "Sopore       102\n",
       "Guwahati      77\n",
       "Ludhiana      77\n",
       "Anantnag      76\n",
       "Jammu         57\n",
       "Name: city, dtype: int64"
      ]
     },
     "execution_count": 32,
     "metadata": {},
     "output_type": "execute_result"
    }
   ],
   "source": [
    "print(\"Top 10  Indian  Terror attack Suffering Cities are :\")\n",
    "ind['city'].value_counts().head(10)"
   ]
  },
  {
   "cell_type": "code",
   "execution_count": 33,
   "id": "9624e907",
   "metadata": {},
   "outputs": [
    {
     "data": {
      "image/png": "[encoded data removed]",
      "text/plain": [
       "<Figure size 720x360 with 1 Axes>"
      ]
     },
     "metadata": {
      "needs_background": "light"
     },
     "output_type": "display_data"
    }
   ],
   "source": [
    "plt.figure(figsize=(10,5))\n",
    "x = ind['city'].value_counts().values[:10]\n",
    "y = ind['city'].value_counts().index[:10]\n",
    "sns.barplot(y,x)\n",
    "plt.xticks(rotation=90)\n",
    "plt.title('Top 10  Indian  Terror attack Suffering Cities are',fontsize=25)\n",
    "plt.show()"
   ]
  },
  {
   "cell_type": "code",
   "execution_count": 34,
   "id": "5d2cfc0b",
   "metadata": {},
   "outputs": [
    {
     "name": "stdout",
     "output_type": "stream",
     "text": [
      "Terrorist top 10 Attack types are In India :\n"
     ]
    },
    {
     "data": {
      "text/plain": [
       "Bombing/Explosion                      4825\n",
       "Armed Assault                          3184\n",
       "Assassination                          1229\n",
       "Hostage Taking (Kidnapping)            1184\n",
       "Facility/Infrastructure Attack          996\n",
       "Unknown                                 312\n",
       "Unarmed Assault                         143\n",
       "Hostage Taking (Barricade Incident)      44\n",
       "Hijacking                                43\n",
       "Name: attacktype1_txt, dtype: int64"
      ]
     },
     "execution_count": 34,
     "metadata": {},
     "output_type": "execute_result"
    }
   ],
   "source": [
    "print(\"Terrorist top 10 Attack types are In India :\")\n",
    "ind['attacktype1_txt'].value_counts().head(10)"
   ]
  },
  {
   "cell_type": "code",
   "execution_count": 35,
   "id": "dfd26021",
   "metadata": {},
   "outputs": [
    {
     "data": {
      "image/png": "[encoded data removed]",
      "text/plain": [
       "<Figure size 720x360 with 1 Axes>"
      ]
     },
     "metadata": {
      "needs_background": "light"
     },
     "output_type": "display_data"
    }
   ],
   "source": [
    "plt.figure(figsize=(10,5))\n",
    "x = ind['attacktype1_txt'].value_counts().values[:10]\n",
    "y = ind['attacktype1_txt'].value_counts().index[:10]\n",
    "sns.barplot(y,x)\n",
    "plt.xticks(rotation=90)\n",
    "plt.title('Terrorist top 10 Attack types are In india',fontsize=25)\n",
    "plt.show()"
   ]
  },
  {
   "cell_type": "code",
   "execution_count": 36,
   "id": "099eb086",
   "metadata": {},
   "outputs": [
    {
     "name": "stdout",
     "output_type": "stream",
     "text": [
      "Top 10 terrorist groups are In india :\n"
     ]
    },
    {
     "data": {
      "text/plain": [
       "Unknown                                           4263\n",
       "Communist Party of India - Maoist (CPI-Maoist)    1877\n",
       "Maoists                                           1396\n",
       "Sikh Extremists                                    710\n",
       "United Liberation Front of Assam (ULFA)            357\n",
       "Hizbul Mujahideen (HM)                             199\n",
       "Lashkar-e-Taiba (LeT)                              187\n",
       "National Democratic Front of Bodoland (NDFB)       174\n",
       "Garo National Liberation Army                      166\n",
       "Muslim Separatists                                 118\n",
       "Name: gname, dtype: int64"
      ]
     },
     "execution_count": 36,
     "metadata": {},
     "output_type": "execute_result"
    }
   ],
   "source": [
    "print(\"Top 10 terrorist groups are In india :\")\n",
    "ind['gname'].value_counts().head(10)"
   ]
  },
  {
   "cell_type": "code",
   "execution_count": 37,
   "id": "6ab3bf6d",
   "metadata": {},
   "outputs": [
    {
     "data": {
      "image/png": "[encoded data removed]",
      "text/plain": [
       "<Figure size 720x360 with 1 Axes>"
      ]
     },
     "metadata": {
      "needs_background": "light"
     },
     "output_type": "display_data"
    }
   ],
   "source": [
    "plt.figure(figsize=(10,5))\n",
    "x = ind['gname'].value_counts().values[:10]\n",
    "y = ind['gname'].value_counts().index[:10]\n",
    "sns.barplot(y,x)\n",
    "plt.xticks(rotation=90)\n",
    "plt.title('Top 10 terrorist groups are in india ',fontsize=25)\n",
    "plt.show()"
   ]
  },
  {
   "cell_type": "code",
   "execution_count": 38,
   "id": "e0d02ef1",
   "metadata": {},
   "outputs": [
    {
     "name": "stdout",
     "output_type": "stream",
     "text": [
      "Top 10 terrorist Target Types In india :\n"
     ]
    },
    {
     "data": {
      "text/plain": [
       "Private Citizens & Property       3144\n",
       "Police                            2299\n",
       "Government (General)              1727\n",
       "Business                          1131\n",
       "Military                           916\n",
       "Transportation                     831\n",
       "Unknown                            598\n",
       "Educational Institution            297\n",
       "Violent Political Party            234\n",
       "Religious Figures/Institutions     214\n",
       "Name: targtype1_txt, dtype: int64"
      ]
     },
     "execution_count": 38,
     "metadata": {},
     "output_type": "execute_result"
    }
   ],
   "source": [
    "print(\"Top 10 terrorist Target Types In india :\")\n",
    "ind['targtype1_txt'].value_counts().head(10)"
   ]
  },
  {
   "cell_type": "code",
   "execution_count": 39,
   "id": "a1e71049",
   "metadata": {},
   "outputs": [
    {
     "data": {
      "image/png": "[encoded data removed]",
      "text/plain": [
       "<Figure size 720x360 with 1 Axes>"
      ]
     },
     "metadata": {
      "needs_background": "light"
     },
     "output_type": "display_data"
    }
   ],
   "source": [
    "plt.figure(figsize=(10,5))\n",
    "x = ind['targtype1_txt'].value_counts().values[:10]\n",
    "y = ind['targtype1_txt'].value_counts().index[:10]\n",
    "sns.barplot(y,x)\n",
    "plt.xticks(rotation=90)\n",
    "plt.title('Top 10 terrorist Target Types In india : ',fontsize=25)\n",
    "plt.show()"
   ]
  },
  {
   "cell_type": "code",
   "execution_count": 40,
   "id": "8f0b4b1f",
   "metadata": {},
   "outputs": [
    {
     "name": "stdout",
     "output_type": "stream",
     "text": [
      "Terrorist activites trends over the year In india:\n"
     ]
    },
    {
     "data": {
      "text/plain": [
       "2016    1025\n",
       "2017     966\n",
       "2015     884\n",
       "2014     860\n",
       "2013     694\n",
       "2009     672\n",
       "2010     663\n",
       "2011     645\n",
       "2012     611\n",
       "2008     534\n",
       "Name: iyear, dtype: int64"
      ]
     },
     "execution_count": 40,
     "metadata": {},
     "output_type": "execute_result"
    }
   ],
   "source": [
    "print(\"Terrorist activites trends over the year In india:\")\n",
    "ind['iyear'].value_counts().head(10)"
   ]
  },
  {
   "cell_type": "code",
   "execution_count": 41,
   "id": "5ce265a5",
   "metadata": {},
   "outputs": [
    {
     "data": {
      "image/png": "[encoded data removed]",
      "text/plain": [
       "<Figure size 720x360 with 1 Axes>"
      ]
     },
     "metadata": {
      "needs_background": "light"
     },
     "output_type": "display_data"
    }
   ],
   "source": [
    "plt.figure(figsize=(10,5))\n",
    "x = ind['iyear'].value_counts().values[:10]\n",
    "y = ind['iyear'].value_counts().index[:10]\n",
    "sns.barplot(y,x)\n",
    "plt.xticks(rotation=90)\n",
    "plt.title('Terrorist activites trends over the year In india ',fontsize=25)\n",
    "plt.show()"
   ]
  },
  {
   "cell_type": "code",
   "execution_count": 42,
   "id": "1a9a5b1b",
   "metadata": {},
   "outputs": [
    {
     "data": {
      "image/png": "[encoded data removed]",
      "text/plain": [
       "<Figure size 1440x720 with 1 Axes>"
      ]
     },
     "metadata": {
      "needs_background": "light"
     },
     "output_type": "display_data"
    }
   ],
   "source": [
    "plt.figure(figsize=(20,10))\n",
    "sns.barplot(ind['iyear'],ind['nkill'],color='blue')\n",
    "plt.xticks(rotation=90)\n",
    "plt.title('Killing  Graph Over the Year in india',fontsize=25)\n",
    "plt.show()"
   ]
  },
  {
   "cell_type": "code",
   "execution_count": 43,
   "id": "676f033e",
   "metadata": {},
   "outputs": [
    {
     "name": "stdout",
     "output_type": "stream",
     "text": [
      "Highest Terrorist Attacks City in india Is: Srinagar\n"
     ]
    }
   ],
   "source": [
    "print('Highest Terrorist Attacks City in india Is:',ind['city'].value_counts().index[0])"
   ]
  },
  {
   "cell_type": "code",
   "execution_count": 44,
   "id": "9a333ab4",
   "metadata": {},
   "outputs": [
    {
     "name": "stdout",
     "output_type": "stream",
     "text": [
      "Maxm people killed in teror attack in india is: 188.0\n"
     ]
    }
   ],
   "source": [
    "print('Maxm people killed in teror attack in india is:',ind['nkill'].max())"
   ]
  },
  {
   "cell_type": "code",
   "execution_count": 45,
   "id": "6b99b980",
   "metadata": {},
   "outputs": [
    {
     "name": "stdout",
     "output_type": "stream",
     "text": [
      "Most attacks year in india: 2016\n"
     ]
    }
   ],
   "source": [
    "print(\"Most attacks year in india:\",ind['iyear'].value_counts().idxmax())"
   ]
  },
  {
   "cell_type": "code",
   "execution_count": 46,
   "id": "9b9ae977",
   "metadata": {},
   "outputs": [
    {
     "name": "stdout",
     "output_type": "stream",
     "text": [
      "Most attacks month in india is: 4\n"
     ]
    }
   ],
   "source": [
    "print(\"Most attacks month in india is:\",ind['imonth'].value_counts().idxmax())"
   ]
  },
  {
   "cell_type": "code",
   "execution_count": 47,
   "id": "467d7b0e",
   "metadata": {},
   "outputs": [
    {
     "name": "stdout",
     "output_type": "stream",
     "text": [
      "Most attack modes in india is : Bombing/Explosion\n"
     ]
    }
   ],
   "source": [
    "print(\"Most attack modes in india is :\",ind['attacktype1_txt'].value_counts().idxmax())"
   ]
  },
  {
   "cell_type": "code",
   "execution_count": 48,
   "id": "af69de5d",
   "metadata": {},
   "outputs": [
    {
     "name": "stdout",
     "output_type": "stream",
     "text": [
      "Most attack target tpes in india is : Private Citizens & Property\n"
     ]
    }
   ],
   "source": [
    "print(\"Most attack target tpes in india is :\",ind['targtype1_txt'].value_counts().idxmax())"
   ]
  },
  {
   "cell_type": "markdown",
   "id": "ca099c97",
   "metadata": {},
   "source": [
    "## The End"
   ]
  }
 ],
 "metadata": {
  "kernelspec": {
   "display_name": "Python 3 (ipykernel)",
   "language": "python",
   "name": "python3"
  },
  "language_info": {
   "codemirror_mode": {
    "name": "ipython",
    "version": 3
   },
   "file_extension": ".py",
   "mimetype": "text/x-python",
   "name": "python",
   "nbconvert_exporter": "python",
   "pygments_lexer": "ipython3",
   "version": "3.7.11"
  }
 },
 "nbformat": 4,
 "nbformat_minor": 5
}
